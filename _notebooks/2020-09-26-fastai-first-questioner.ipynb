{
 "cells": [
  {
   "cell_type": "markdown",
   "metadata": {},
   "source": [
    "# Fastai First Chapter\n",
    "> We are going to discuss the first chapter of fastai and talk about the questions\n",
    "\n",
    "- toc:true\n",
    "- branch: master\n",
    "- badges: true\n",
    "- comments: true\n",
    "- author: Juan Cruz Alric\n",
    "- categories: [deep-learning, jupyter, fastai]"
   ]
  },
  {
   "cell_type": "markdown",
   "metadata": {},
   "source": [
    "## Why is it hard to use a traditional computer program to recognize images in a photo?"
   ]
  },
  {
   "cell_type": "markdown",
   "metadata": {},
   "source": [
    "We are going to answer this question by giving an example:\n",
    "Imagine that you make a program that tells you if the image that you pass is an apple"
   ]
  },
  {
   "cell_type": "markdown",
   "metadata": {},
   "source": [
    "![](my_icons/apple.jpeg)"
   ]
  },
  {
   "cell_type": "markdown",
   "metadata": {},
   "source": [
    "But not every apple has the same size and color..."
   ]
  },
  {
   "cell_type": "markdown",
   "metadata": {},
   "source": [
    "![](my_icons/more_apples.jpg)"
   ]
  },
  {
   "cell_type": "markdown",
   "metadata": {},
   "source": [
    "Image creating a bunch of manual rules for only one image just to get rekt by the second image they give you."
   ]
  },
  {
   "cell_type": "markdown",
   "metadata": {},
   "source": [
    "And that's why machine learning is perfect for solving image detection problems, just let the computer create her own rules that work for any apple image."
   ]
  },
  {
   "cell_type": "markdown",
   "metadata": {},
   "source": [
    "## What did the author mean by \"weight assignment\"?"
   ]
  },
  {
   "cell_type": "markdown",
   "metadata": {},
   "source": [
    "Weight assignments are a specific way to add values to the current weights. In deep learning we use Parameters to refer to \"weights\""
   ]
  },
  {
   "cell_type": "markdown",
   "metadata": {},
   "source": [
    "## What is the name of the theorem that shows that a neural network can solve any mathematical problem to any level of accuracy?"
   ]
  },
  {
   "cell_type": "markdown",
   "metadata": {},
   "source": [
    "The universal approximation theorem shows that this function can solve any problem to any level of accuracy, in theory."
   ]
  },
  {
   "cell_type": "markdown",
   "metadata": {},
   "source": [
    "## Neural network diagram"
   ]
  },
  {
   "cell_type": "markdown",
   "metadata": {},
   "source": [
    "![](my_icons/model.png)"
   ]
  },
  {
   "cell_type": "markdown",
   "metadata": {},
   "source": [
    "## What do you need in order to train a model?"
   ]
  },
  {
   "cell_type": "markdown",
   "metadata": {},
   "source": [
    "You need DATA. If you are working in a supervise problem you also need the labels for that particula dataset"
   ]
  },
  {
   "cell_type": "markdown",
   "metadata": {},
   "source": [
    "## Do we always have to use 224×224-pixel images with the cat recognition model?"
   ]
  },
  {
   "cell_type": "markdown",
   "metadata": {},
   "source": [
    "No, 224x224 is a well establish size known by researchers, but you can use the size you want. Just take into account that if you increase the size you may get better predictions because the model can track more data. However, you will lose speed in training your model."
   ]
  },
  {
   "cell_type": "markdown",
   "metadata": {},
   "source": [
    "## What is the difference between classification and regression?"
   ]
  },
  {
   "cell_type": "markdown",
   "metadata": {},
   "source": [
    "The difference between classification and regression is the target you want to predict. In REGRESSION problems you want to predict a number (ex:123). In CLASSIFICATION problems you want to predict a specific class (ex: if its a dog or a cat)"
   ]
  },
  {
   "cell_type": "markdown",
   "metadata": {},
   "source": [
    "## What is a validation set? What is a test set? Why do we need them?"
   ]
  },
  {
   "cell_type": "markdown",
   "metadata": {},
   "source": [
    "A validation set is used to tell if our model is performing better in each iteration in the training face. The test set is only used when we are completely sure that we are going to use that model and we are ready to deploy de model to production."
   ]
  },
  {
   "cell_type": "markdown",
   "metadata": {},
   "source": [
    "## What will fastai do if you don't provide a validation set?"
   ]
  },
  {
   "cell_type": "markdown",
   "metadata": {},
   "source": [
    "It will create a validation set for you"
   ]
  },
  {
   "cell_type": "markdown",
   "metadata": {},
   "source": [
    "## What is overfitting? Provide an example."
   ]
  },
  {
   "cell_type": "markdown",
   "metadata": {},
   "source": [
    "Overfitting is when your model memorizes all your training set so well that when given new unseen data it gives a terrible result. Example: Image a teacher tells you to only study from these questions for the exam. However, when the day of the exam arrives the test is completely different. You study only the questions by hard but you only can answer exactly those. If you are given another set of questions you would perform poorly."
   ]
  },
  {
   "cell_type": "markdown",
   "metadata": {},
   "source": [
    "## What is a metric? How does it differ from \"loss\"?"
   ]
  },
  {
   "cell_type": "markdown",
   "metadata": {},
   "source": [
    "A metric is a measurement of how good the model is, using the validation set, chosen for human perception. However, the loss is also a measure of how good the model is, chosen to drive training via SGD and in charge of modifying the parameters."
   ]
  },
  {
   "cell_type": "markdown",
   "metadata": {},
   "source": [
    "## How can pretrained models help?"
   ]
  },
  {
   "cell_type": "markdown",
   "metadata": {},
   "source": [
    "Transfer learning models help us because they already have their weights already initialized. It will also reduce the amount of time we are going to need our model to train and also the amount of data that we need to have."
   ]
  },
  {
   "cell_type": "markdown",
   "metadata": {},
   "source": [
    "## What is the \"head\" of a model?"
   ]
  },
  {
   "cell_type": "markdown",
   "metadata": {},
   "source": [
    "The head of a model is the part that is newly added to be specific to the new dataset."
   ]
  },
  {
   "cell_type": "markdown",
   "metadata": {},
   "source": [
    "## What is an \"architecture\"?"
   ]
  },
  {
   "cell_type": "markdown",
   "metadata": {},
   "source": [
    " An \"architecture\" is the actual mathematical function that we're passing the input data and parameters to"
   ]
  },
  {
   "cell_type": "markdown",
   "metadata": {},
   "source": [
    "## What is segmentation?"
   ]
  },
  {
   "cell_type": "markdown",
   "metadata": {},
   "source": [
    "Creating a model that can recognize the content of every individual pixel in an image is called segmentation. "
   ]
  },
  {
   "cell_type": "markdown",
   "metadata": {},
   "source": [
    "## What is y_range used for? When do we need it?"
   ]
  },
  {
   "cell_type": "markdown",
   "metadata": {},
   "source": [
    "Y_range is used when you're predicting a continuous number, rather than a category, so we have to tell fastai what range our target has, using the y_range parameter."
   ]
  },
  {
   "cell_type": "markdown",
   "metadata": {},
   "source": [
    "## Summary"
   ]
  },
  {
   "cell_type": "markdown",
   "metadata": {},
   "source": [
    "The first chapter was a perfect and clear introduction to a lot of words that we use all-day in Data Science. Hopefully, in the following chapters, we can get more deeply into these subjects."
   ]
  },
  {
   "cell_type": "code",
   "execution_count": null,
   "metadata": {},
   "outputs": [],
   "source": []
  }
 ],
 "metadata": {
  "kernelspec": {
   "display_name": "Python 3",
   "language": "python",
   "name": "python3"
  },
  "language_info": {
   "codemirror_mode": {
    "name": "ipython",
    "version": 3
   },
   "file_extension": ".py",
   "mimetype": "text/x-python",
   "name": "python",
   "nbconvert_exporter": "python",
   "pygments_lexer": "ipython3",
   "version": "3.7.4"
  }
 },
 "nbformat": 4,
 "nbformat_minor": 4
}
