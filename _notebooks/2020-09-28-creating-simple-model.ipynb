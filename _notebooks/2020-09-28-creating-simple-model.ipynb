{
 "cells": [
  {
   "cell_type": "markdown",
   "metadata": {},
   "source": [
    "# Creating a Simpler Model\n",
    "> Creating a simple model without any \"machine learning\".\n",
    "\n",
    "- toc:true\n",
    "- branch: master\n",
    "- badges: true\n",
    "- comments: true\n",
    "- author: Juan Cruz Alric\n",
    "- categories: [deep-learning, jupyter, fastai]"
   ]
  },
  {
   "cell_type": "code",
   "execution_count": 1,
   "metadata": {},
   "outputs": [
    {
     "name": "stdout",
     "output_type": "stream",
     "text": [
      "\u001b[31mvoila 0.2.3 has requirement nbconvert<7,>=6.0.0, but you'll have nbconvert 5.6.1 which is incompatible.\u001b[0m\r\n"
     ]
    },
    {
     "name": "stderr",
     "output_type": "stream",
     "text": [
      "/home/juancruzalric/.pyenv/versions/3.7.4/envs/fastai/lib/python3.7/site-packages/fastbook/__init__.py:22: UserWarning: Missing `graphviz` - please run `conda install fastbook`\n",
      "  except ModuleNotFoundError: warn(\"Missing `graphviz` - please run `conda install fastbook`\")\n"
     ]
    }
   ],
   "source": [
    "# This will automatically install any dependency that you dont have in \n",
    "# your machine to run the code\n",
    "!pip install -Uqq fastbook\n",
    "import fastbook\n",
    "fastbook.setup_book()"
   ]
  },
  {
   "cell_type": "code",
   "execution_count": 2,
   "metadata": {},
   "outputs": [],
   "source": [
    "from fastai.vision.all import *\n",
    "from fastbook import *\n",
    "\n",
    "# We are going to work with grey scale images\n",
    "matplotlib.rc('image', cmap='Greys')"
   ]
  },
  {
   "cell_type": "markdown",
   "metadata": {},
   "source": [
    "## Mnist Dataset"
   ]
  },
  {
   "cell_type": "markdown",
   "metadata": {},
   "source": [
    "Mnist Dataset contains a lot of images from 0 to 9. We are going to try and classify any image as a 3 or a 7"
   ]
  },
  {
   "cell_type": "code",
   "execution_count": 10,
   "metadata": {},
   "outputs": [
    {
     "data": {
      "text/plain": [
       "'https://s3.amazonaws.com/fast-ai-sample/mnist_sample.tgz'"
      ]
     },
     "execution_count": 10,
     "metadata": {},
     "output_type": "execute_result"
    }
   ],
   "source": [
    "URLs.MNIST_SAMPLE"
   ]
  },
  {
   "cell_type": "code",
   "execution_count": 11,
   "metadata": {},
   "outputs": [],
   "source": [
    "path = untar_data(URLs.MNIST_SAMPLE)"
   ]
  },
  {
   "cell_type": "code",
   "execution_count": 12,
   "metadata": {},
   "outputs": [
    {
     "data": {
      "text/plain": [
       "Path('/home/juancruzalric/.fastai/data/mnist_sample')"
      ]
     },
     "execution_count": 12,
     "metadata": {},
     "output_type": "execute_result"
    }
   ],
   "source": [
    "path"
   ]
  },
  {
   "cell_type": "code",
   "execution_count": 13,
   "metadata": {},
   "outputs": [
    {
     "data": {
      "text/plain": [
       "(#3) [Path('/home/juancruzalric/.fastai/data/mnist_sample/train'),Path('/home/juancruzalric/.fastai/data/mnist_sample/valid'),Path('/home/juancruzalric/.fastai/data/mnist_sample/labels.csv')]"
      ]
     },
     "execution_count": 13,
     "metadata": {},
     "output_type": "execute_result"
    }
   ],
   "source": [
    "path.ls()"
   ]
  },
  {
   "cell_type": "markdown",
   "metadata": {},
   "source": [
    "ls() ---> is a method created by fastai. It let you see what is inside the directory. It will return a object called by \"L\". It has the same functionality as a \"list\" in python.\n",
    "\n",
    "We can also see that we have a train directory and a valid directory"
   ]
  },
  {
   "cell_type": "code",
   "execution_count": 14,
   "metadata": {},
   "outputs": [
    {
     "data": {
      "text/plain": [
       "(#2) [Path('/home/juancruzalric/.fastai/data/mnist_sample/train/3'),Path('/home/juancruzalric/.fastai/data/mnist_sample/train/7')]"
      ]
     },
     "execution_count": 14,
     "metadata": {},
     "output_type": "execute_result"
    }
   ],
   "source": [
    "(path/'train').ls()"
   ]
  },
  {
   "cell_type": "markdown",
   "metadata": {},
   "source": [
    "There are two directories inside \"/train\" one is \"/train/7\" and the other one is \"/train/3\". The \"/3\" and \"/7\" represents the labels of the data"
   ]
  },
  {
   "cell_type": "code",
   "execution_count": 15,
   "metadata": {},
   "outputs": [
    {
     "data": {
      "text/plain": [
       "(#6131) [Path('/home/juancruzalric/.fastai/data/mnist_sample/train/3/10.png'),Path('/home/juancruzalric/.fastai/data/mnist_sample/train/3/10000.png'),Path('/home/juancruzalric/.fastai/data/mnist_sample/train/3/10011.png'),Path('/home/juancruzalric/.fastai/data/mnist_sample/train/3/10031.png'),Path('/home/juancruzalric/.fastai/data/mnist_sample/train/3/10034.png'),Path('/home/juancruzalric/.fastai/data/mnist_sample/train/3/10042.png'),Path('/home/juancruzalric/.fastai/data/mnist_sample/train/3/10052.png'),Path('/home/juancruzalric/.fastai/data/mnist_sample/train/3/1007.png'),Path('/home/juancruzalric/.fastai/data/mnist_sample/train/3/10074.png'),Path('/home/juancruzalric/.fastai/data/mnist_sample/train/3/10091.png')...]"
      ]
     },
     "execution_count": 15,
     "metadata": {},
     "output_type": "execute_result"
    }
   ],
   "source": [
    "threes = (path/'train'/'3').ls().sorted()\n",
    "sevens = (path/'train'/'7').ls().sorted()\n",
    "threes"
   ]
  },
  {
   "cell_type": "markdown",
   "metadata": {},
   "source": [
    "Lets try and print out one of the images"
   ]
  },
  {
   "cell_type": "code",
   "execution_count": 16,
   "metadata": {},
   "outputs": [
    {
     "data": {
      "image/png": "[encoded data removed]",
      "text/plain": [
       "<PIL.PngImagePlugin.PngImageFile image mode=L size=28x28 at 0x7F632130F5D0>"
      ]
     },
     "execution_count": 16,
     "metadata": {},
     "output_type": "execute_result"
    }
   ],
   "source": [
    "img3_path = threes[1]\n",
    "im3 = Image.open(img3_path)\n",
    "im3"
   ]
  },
  {
   "cell_type": "code",
   "execution_count": 17,
   "metadata": {},
   "outputs": [
    {
     "data": {
      "image/png": "[encoded data removed]",
      "text/plain": [
       "<PIL.PngImagePlugin.PngImageFile image mode=L size=28x28 at 0x7F6320C24D90>"
      ]
     },
     "execution_count": 17,
     "metadata": {},
     "output_type": "execute_result"
    }
   ],
   "source": [
    "img7_path = sevens[1]\n",
    "im7 = Image.open(img7_path)\n",
    "im7"
   ]
  },
  {
   "cell_type": "markdown",
   "metadata": {},
   "source": [
    "But sadly... a computer only undestands numbers we will need to transform this images"
   ]
  },
  {
   "cell_type": "code",
   "execution_count": 19,
   "metadata": {},
   "outputs": [
    {
     "data": {
      "text/plain": [
       "array([[  0,   0,   0,   0,   0,   0],\n",
       "       [  0,   0,   0,   0,   0,  29],\n",
       "       [  0,   0,   0,  48, 166, 224],\n",
       "       [  0,  93, 244, 249, 253, 187],\n",
       "       [  0, 107, 253, 253, 230,  48],\n",
       "       [  0,   3,  20,  20,  15,   0]], dtype=uint8)"
      ]
     },
     "execution_count": 19,
     "metadata": {},
     "output_type": "execute_result"
    }
   ],
   "source": [
    "array(im3)[4:10,4:10]"
   ]
  },
  {
   "cell_type": "markdown",
   "metadata": {},
   "source": [
    "We are printing rows from 4 up to 10 (not including 10) and columns 4 to 10 (not including 10)"
   ]
  },
  {
   "cell_type": "markdown",
   "metadata": {},
   "source": [
    "We can see it more clearly using a Dataframe (Pandas library)."
   ]
  },
  {
   "cell_type": "code",
   "execution_count": 20,
   "metadata": {},
   "outputs": [
    {
     "data": {
      "text/plain": [
       "numpy.ndarray"
      ]
     },
     "execution_count": 20,
     "metadata": {},
     "output_type": "execute_result"
    }
   ],
   "source": [
    "type(array(im3))"
   ]
  },
  {
   "cell_type": "code",
   "execution_count": 21,
   "metadata": {},
   "outputs": [
    {
     "data": {
      "text/plain": [
       "torch.Tensor"
      ]
     },
     "execution_count": 21,
     "metadata": {},
     "output_type": "execute_result"
    }
   ],
   "source": [
    "type(tensor(im3))"
   ]
  },
  {
   "cell_type": "markdown",
   "metadata": {},
   "source": [
    "tensors and numpy arrays are similar. However tensors let you run your operations in the GPU making your work process faster. We are going to use tensors from now on."
   ]
  },
  {
   "cell_type": "code",
   "execution_count": 30,
   "metadata": {},
   "outputs": [
    {
     "data": {
      "text/html": [
       "<style  type=\"text/css\" >\n",
       "#T_2fbe7c5c_0196_11eb_a865_bd7b91d68974row0_col0,#T_2fbe7c5c_0196_11eb_a865_bd7b91d68974row0_col1,#T_2fbe7c5c_0196_11eb_a865_bd7b91d68974row0_col2,#T_2fbe7c5c_0196_11eb_a865_bd7b91d68974row0_col3,#T_2fbe7c5c_0196_11eb_a865_bd7b91d68974row0_col4,#T_2fbe7c5c_0196_11eb_a865_bd7b91d68974row0_col5,#T_2fbe7c5c_0196_11eb_a865_bd7b91d68974row0_col6,#T_2fbe7c5c_0196_11eb_a865_bd7b91d68974row0_col7,#T_2fbe7c5c_0196_11eb_a865_bd7b91d68974row0_col8,#T_2fbe7c5c_0196_11eb_a865_bd7b91d68974row0_col9,#T_2fbe7c5c_0196_11eb_a865_bd7b91d68974row0_col10,#T_2fbe7c5c_0196_11eb_a865_bd7b91d68974row0_col11,#T_2fbe7c5c_0196_11eb_a865_bd7b91d68974row0_col12,#T_2fbe7c5c_0196_11eb_a865_bd7b91d68974row0_col13,#T_2fbe7c5c_0196_11eb_a865_bd7b91d68974row0_col14,#T_2fbe7c5c_0196_11eb_a865_bd7b91d68974row0_col15,#T_2fbe7c5c_0196_11eb_a865_bd7b91d68974row0_col16,#T_2fbe7c5c_0196_11eb_a865_bd7b91d68974row0_col17,#T_2fbe7c5c_0196_11eb_a865_bd7b91d68974row1_col0,#T_2fbe7c5c_0196_11eb_a865_bd7b91d68974row1_col1,#T_2fbe7c5c_0196_11eb_a865_bd7b91d68974row1_col2,#T_2fbe7c5c_0196_11eb_a865_bd7b91d68974row1_col3,#T_2fbe7c5c_0196_11eb_a865_bd7b91d68974row1_col4,#T_2fbe7c5c_0196_11eb_a865_bd7b91d68974row1_col15,#T_2fbe7c5c_0196_11eb_a865_bd7b91d68974row1_col16,#T_2fbe7c5c_0196_11eb_a865_bd7b91d68974row1_col17,#T_2fbe7c5c_0196_11eb_a865_bd7b91d68974row2_col0,#T_2fbe7c5c_0196_11eb_a865_bd7b91d68974row2_col1,#T_2fbe7c5c_0196_11eb_a865_bd7b91d68974row2_col2,#T_2fbe7c5c_0196_11eb_a865_bd7b91d68974row2_col15,#T_2fbe7c5c_0196_11eb_a865_bd7b91d68974row2_col16,#T_2fbe7c5c_0196_11eb_a865_bd7b91d68974row2_col17,#T_2fbe7c5c_0196_11eb_a865_bd7b91d68974row3_col0,#T_2fbe7c5c_0196_11eb_a865_bd7b91d68974row3_col15,#T_2fbe7c5c_0196_11eb_a865_bd7b91d68974row3_col16,#T_2fbe7c5c_0196_11eb_a865_bd7b91d68974row3_col17,#T_2fbe7c5c_0196_11eb_a865_bd7b91d68974row4_col0,#T_2fbe7c5c_0196_11eb_a865_bd7b91d68974row4_col6,#T_2fbe7c5c_0196_11eb_a865_bd7b91d68974row4_col7,#T_2fbe7c5c_0196_11eb_a865_bd7b91d68974row4_col8,#T_2fbe7c5c_0196_11eb_a865_bd7b91d68974row4_col9,#T_2fbe7c5c_0196_11eb_a865_bd7b91d68974row4_col10,#T_2fbe7c5c_0196_11eb_a865_bd7b91d68974row4_col15,#T_2fbe7c5c_0196_11eb_a865_bd7b91d68974row4_col16,#T_2fbe7c5c_0196_11eb_a865_bd7b91d68974row4_col17,#T_2fbe7c5c_0196_11eb_a865_bd7b91d68974row5_col0,#T_2fbe7c5c_0196_11eb_a865_bd7b91d68974row5_col5,#T_2fbe7c5c_0196_11eb_a865_bd7b91d68974row5_col6,#T_2fbe7c5c_0196_11eb_a865_bd7b91d68974row5_col7,#T_2fbe7c5c_0196_11eb_a865_bd7b91d68974row5_col8,#T_2fbe7c5c_0196_11eb_a865_bd7b91d68974row5_col9,#T_2fbe7c5c_0196_11eb_a865_bd7b91d68974row5_col15,#T_2fbe7c5c_0196_11eb_a865_bd7b91d68974row5_col16,#T_2fbe7c5c_0196_11eb_a865_bd7b91d68974row5_col17,#T_2fbe7c5c_0196_11eb_a865_bd7b91d68974row6_col0,#T_2fbe7c5c_0196_11eb_a865_bd7b91d68974row6_col1,#T_2fbe7c5c_0196_11eb_a865_bd7b91d68974row6_col2,#T_2fbe7c5c_0196_11eb_a865_bd7b91d68974row6_col3,#T_2fbe7c5c_0196_11eb_a865_bd7b91d68974row6_col4,#T_2fbe7c5c_0196_11eb_a865_bd7b91d68974row6_col5,#T_2fbe7c5c_0196_11eb_a865_bd7b91d68974row6_col6,#T_2fbe7c5c_0196_11eb_a865_bd7b91d68974row6_col7,#T_2fbe7c5c_0196_11eb_a865_bd7b91d68974row6_col8,#T_2fbe7c5c_0196_11eb_a865_bd7b91d68974row6_col9,#T_2fbe7c5c_0196_11eb_a865_bd7b91d68974row6_col14,#T_2fbe7c5c_0196_11eb_a865_bd7b91d68974row6_col15,#T_2fbe7c5c_0196_11eb_a865_bd7b91d68974row6_col16,#T_2fbe7c5c_0196_11eb_a865_bd7b91d68974row6_col17,#T_2fbe7c5c_0196_11eb_a865_bd7b91d68974row7_col0,#T_2fbe7c5c_0196_11eb_a865_bd7b91d68974row7_col1,#T_2fbe7c5c_0196_11eb_a865_bd7b91d68974row7_col2,#T_2fbe7c5c_0196_11eb_a865_bd7b91d68974row7_col3,#T_2fbe7c5c_0196_11eb_a865_bd7b91d68974row7_col4,#T_2fbe7c5c_0196_11eb_a865_bd7b91d68974row7_col5,#T_2fbe7c5c_0196_11eb_a865_bd7b91d68974row7_col6,#T_2fbe7c5c_0196_11eb_a865_bd7b91d68974row7_col13,#T_2fbe7c5c_0196_11eb_a865_bd7b91d68974row7_col14,#T_2fbe7c5c_0196_11eb_a865_bd7b91d68974row7_col15,#T_2fbe7c5c_0196_11eb_a865_bd7b91d68974row7_col16,#T_2fbe7c5c_0196_11eb_a865_bd7b91d68974row7_col17,#T_2fbe7c5c_0196_11eb_a865_bd7b91d68974row8_col0,#T_2fbe7c5c_0196_11eb_a865_bd7b91d68974row8_col1,#T_2fbe7c5c_0196_11eb_a865_bd7b91d68974row8_col2,#T_2fbe7c5c_0196_11eb_a865_bd7b91d68974row8_col3,#T_2fbe7c5c_0196_11eb_a865_bd7b91d68974row8_col4,#T_2fbe7c5c_0196_11eb_a865_bd7b91d68974row8_col13,#T_2fbe7c5c_0196_11eb_a865_bd7b91d68974row8_col14,#T_2fbe7c5c_0196_11eb_a865_bd7b91d68974row8_col15,#T_2fbe7c5c_0196_11eb_a865_bd7b91d68974row8_col16,#T_2fbe7c5c_0196_11eb_a865_bd7b91d68974row8_col17,#T_2fbe7c5c_0196_11eb_a865_bd7b91d68974row9_col0,#T_2fbe7c5c_0196_11eb_a865_bd7b91d68974row9_col1,#T_2fbe7c5c_0196_11eb_a865_bd7b91d68974row9_col2,#T_2fbe7c5c_0196_11eb_a865_bd7b91d68974row9_col3,#T_2fbe7c5c_0196_11eb_a865_bd7b91d68974row9_col4,#T_2fbe7c5c_0196_11eb_a865_bd7b91d68974row9_col16,#T_2fbe7c5c_0196_11eb_a865_bd7b91d68974row9_col17,#T_2fbe7c5c_0196_11eb_a865_bd7b91d68974row10_col0,#T_2fbe7c5c_0196_11eb_a865_bd7b91d68974row10_col1,#T_2fbe7c5c_0196_11eb_a865_bd7b91d68974row10_col2,#T_2fbe7c5c_0196_11eb_a865_bd7b91d68974row10_col3,#T_2fbe7c5c_0196_11eb_a865_bd7b91d68974row10_col4,#T_2fbe7c5c_0196_11eb_a865_bd7b91d68974row10_col5,#T_2fbe7c5c_0196_11eb_a865_bd7b91d68974row10_col6,#T_2fbe7c5c_0196_11eb_a865_bd7b91d68974row10_col17,#T_2fbe7c5c_0196_11eb_a865_bd7b91d68974row11_col0,#T_2fbe7c5c_0196_11eb_a865_bd7b91d68974row11_col1,#T_2fbe7c5c_0196_11eb_a865_bd7b91d68974row11_col2,#T_2fbe7c5c_0196_11eb_a865_bd7b91d68974row11_col3,#T_2fbe7c5c_0196_11eb_a865_bd7b91d68974row11_col4,#T_2fbe7c5c_0196_11eb_a865_bd7b91d68974row11_col5,#T_2fbe7c5c_0196_11eb_a865_bd7b91d68974row11_col6,#T_2fbe7c5c_0196_11eb_a865_bd7b91d68974row11_col7,#T_2fbe7c5c_0196_11eb_a865_bd7b91d68974row11_col8,#T_2fbe7c5c_0196_11eb_a865_bd7b91d68974row11_col9,#T_2fbe7c5c_0196_11eb_a865_bd7b91d68974row11_col17,#T_2fbe7c5c_0196_11eb_a865_bd7b91d68974row12_col0,#T_2fbe7c5c_0196_11eb_a865_bd7b91d68974row12_col1,#T_2fbe7c5c_0196_11eb_a865_bd7b91d68974row12_col2,#T_2fbe7c5c_0196_11eb_a865_bd7b91d68974row12_col3,#T_2fbe7c5c_0196_11eb_a865_bd7b91d68974row12_col4,#T_2fbe7c5c_0196_11eb_a865_bd7b91d68974row12_col5,#T_2fbe7c5c_0196_11eb_a865_bd7b91d68974row12_col6,#T_2fbe7c5c_0196_11eb_a865_bd7b91d68974row12_col7,#T_2fbe7c5c_0196_11eb_a865_bd7b91d68974row12_col8,#T_2fbe7c5c_0196_11eb_a865_bd7b91d68974row12_col9,#T_2fbe7c5c_0196_11eb_a865_bd7b91d68974row12_col10,#T_2fbe7c5c_0196_11eb_a865_bd7b91d68974row12_col11,#T_2fbe7c5c_0196_11eb_a865_bd7b91d68974row12_col12,#T_2fbe7c5c_0196_11eb_a865_bd7b91d68974row12_col17,#T_2fbe7c5c_0196_11eb_a865_bd7b91d68974row13_col0,#T_2fbe7c5c_0196_11eb_a865_bd7b91d68974row13_col1,#T_2fbe7c5c_0196_11eb_a865_bd7b91d68974row13_col2,#T_2fbe7c5c_0196_11eb_a865_bd7b91d68974row13_col3,#T_2fbe7c5c_0196_11eb_a865_bd7b91d68974row13_col4,#T_2fbe7c5c_0196_11eb_a865_bd7b91d68974row13_col5,#T_2fbe7c5c_0196_11eb_a865_bd7b91d68974row13_col6,#T_2fbe7c5c_0196_11eb_a865_bd7b91d68974row13_col7,#T_2fbe7c5c_0196_11eb_a865_bd7b91d68974row13_col8,#T_2fbe7c5c_0196_11eb_a865_bd7b91d68974row13_col9,#T_2fbe7c5c_0196_11eb_a865_bd7b91d68974row13_col10,#T_2fbe7c5c_0196_11eb_a865_bd7b91d68974row13_col11,#T_2fbe7c5c_0196_11eb_a865_bd7b91d68974row13_col12,#T_2fbe7c5c_0196_11eb_a865_bd7b91d68974row13_col17,#T_2fbe7c5c_0196_11eb_a865_bd7b91d68974row14_col0,#T_2fbe7c5c_0196_11eb_a865_bd7b91d68974row14_col1,#T_2fbe7c5c_0196_11eb_a865_bd7b91d68974row14_col2,#T_2fbe7c5c_0196_11eb_a865_bd7b91d68974row14_col3,#T_2fbe7c5c_0196_11eb_a865_bd7b91d68974row14_col4,#T_2fbe7c5c_0196_11eb_a865_bd7b91d68974row14_col5,#T_2fbe7c5c_0196_11eb_a865_bd7b91d68974row14_col6,#T_2fbe7c5c_0196_11eb_a865_bd7b91d68974row14_col7,#T_2fbe7c5c_0196_11eb_a865_bd7b91d68974row14_col8,#T_2fbe7c5c_0196_11eb_a865_bd7b91d68974row14_col9,#T_2fbe7c5c_0196_11eb_a865_bd7b91d68974row14_col10,#T_2fbe7c5c_0196_11eb_a865_bd7b91d68974row14_col11,#T_2fbe7c5c_0196_11eb_a865_bd7b91d68974row14_col17,#T_2fbe7c5c_0196_11eb_a865_bd7b91d68974row15_col0,#T_2fbe7c5c_0196_11eb_a865_bd7b91d68974row15_col1,#T_2fbe7c5c_0196_11eb_a865_bd7b91d68974row15_col2,#T_2fbe7c5c_0196_11eb_a865_bd7b91d68974row15_col3,#T_2fbe7c5c_0196_11eb_a865_bd7b91d68974row15_col4,#T_2fbe7c5c_0196_11eb_a865_bd7b91d68974row15_col5,#T_2fbe7c5c_0196_11eb_a865_bd7b91d68974row15_col6,#T_2fbe7c5c_0196_11eb_a865_bd7b91d68974row15_col7,#T_2fbe7c5c_0196_11eb_a865_bd7b91d68974row15_col8,#T_2fbe7c5c_0196_11eb_a865_bd7b91d68974row15_col9,#T_2fbe7c5c_0196_11eb_a865_bd7b91d68974row15_col10,#T_2fbe7c5c_0196_11eb_a865_bd7b91d68974row15_col17,#T_2fbe7c5c_0196_11eb_a865_bd7b91d68974row16_col0,#T_2fbe7c5c_0196_11eb_a865_bd7b91d68974row16_col1,#T_2fbe7c5c_0196_11eb_a865_bd7b91d68974row16_col2,#T_2fbe7c5c_0196_11eb_a865_bd7b91d68974row16_col3,#T_2fbe7c5c_0196_11eb_a865_bd7b91d68974row16_col4,#T_2fbe7c5c_0196_11eb_a865_bd7b91d68974row16_col5,#T_2fbe7c5c_0196_11eb_a865_bd7b91d68974row16_col6,#T_2fbe7c5c_0196_11eb_a865_bd7b91d68974row16_col7,#T_2fbe7c5c_0196_11eb_a865_bd7b91d68974row16_col8,#T_2fbe7c5c_0196_11eb_a865_bd7b91d68974row16_col9,#T_2fbe7c5c_0196_11eb_a865_bd7b91d68974row16_col16,#T_2fbe7c5c_0196_11eb_a865_bd7b91d68974row16_col17,#T_2fbe7c5c_0196_11eb_a865_bd7b91d68974row17_col0,#T_2fbe7c5c_0196_11eb_a865_bd7b91d68974row17_col1,#T_2fbe7c5c_0196_11eb_a865_bd7b91d68974row17_col2,#T_2fbe7c5c_0196_11eb_a865_bd7b91d68974row17_col3,#T_2fbe7c5c_0196_11eb_a865_bd7b91d68974row17_col4,#T_2fbe7c5c_0196_11eb_a865_bd7b91d68974row17_col5,#T_2fbe7c5c_0196_11eb_a865_bd7b91d68974row17_col6,#T_2fbe7c5c_0196_11eb_a865_bd7b91d68974row17_col7,#T_2fbe7c5c_0196_11eb_a865_bd7b91d68974row17_col15,#T_2fbe7c5c_0196_11eb_a865_bd7b91d68974row17_col16,#T_2fbe7c5c_0196_11eb_a865_bd7b91d68974row17_col17{\n",
       "            font-size:  10pt;\n",
       "            background-color:  #ffffff;\n",
       "            color:  #000000;\n",
       "        }#T_2fbe7c5c_0196_11eb_a865_bd7b91d68974row1_col5{\n",
       "            font-size:  10pt;\n",
       "            background-color:  #efefef;\n",
       "            color:  #000000;\n",
       "        }#T_2fbe7c5c_0196_11eb_a865_bd7b91d68974row1_col6,#T_2fbe7c5c_0196_11eb_a865_bd7b91d68974row1_col13{\n",
       "            font-size:  10pt;\n",
       "            background-color:  #7c7c7c;\n",
       "            color:  #000000;\n",
       "        }#T_2fbe7c5c_0196_11eb_a865_bd7b91d68974row1_col7{\n",
       "            font-size:  10pt;\n",
       "            background-color:  #4a4a4a;\n",
       "            color:  #f1f1f1;\n",
       "        }#T_2fbe7c5c_0196_11eb_a865_bd7b91d68974row1_col8,#T_2fbe7c5c_0196_11eb_a865_bd7b91d68974row1_col9,#T_2fbe7c5c_0196_11eb_a865_bd7b91d68974row1_col10,#T_2fbe7c5c_0196_11eb_a865_bd7b91d68974row2_col5,#T_2fbe7c5c_0196_11eb_a865_bd7b91d68974row2_col6,#T_2fbe7c5c_0196_11eb_a865_bd7b91d68974row2_col7,#T_2fbe7c5c_0196_11eb_a865_bd7b91d68974row2_col11,#T_2fbe7c5c_0196_11eb_a865_bd7b91d68974row2_col12,#T_2fbe7c5c_0196_11eb_a865_bd7b91d68974row2_col13,#T_2fbe7c5c_0196_11eb_a865_bd7b91d68974row3_col4,#T_2fbe7c5c_0196_11eb_a865_bd7b91d68974row3_col12,#T_2fbe7c5c_0196_11eb_a865_bd7b91d68974row3_col13,#T_2fbe7c5c_0196_11eb_a865_bd7b91d68974row4_col1,#T_2fbe7c5c_0196_11eb_a865_bd7b91d68974row4_col2,#T_2fbe7c5c_0196_11eb_a865_bd7b91d68974row4_col3,#T_2fbe7c5c_0196_11eb_a865_bd7b91d68974row4_col12,#T_2fbe7c5c_0196_11eb_a865_bd7b91d68974row4_col13,#T_2fbe7c5c_0196_11eb_a865_bd7b91d68974row5_col12,#T_2fbe7c5c_0196_11eb_a865_bd7b91d68974row6_col11,#T_2fbe7c5c_0196_11eb_a865_bd7b91d68974row9_col11,#T_2fbe7c5c_0196_11eb_a865_bd7b91d68974row10_col11,#T_2fbe7c5c_0196_11eb_a865_bd7b91d68974row10_col12,#T_2fbe7c5c_0196_11eb_a865_bd7b91d68974row10_col13,#T_2fbe7c5c_0196_11eb_a865_bd7b91d68974row10_col14,#T_2fbe7c5c_0196_11eb_a865_bd7b91d68974row11_col13,#T_2fbe7c5c_0196_11eb_a865_bd7b91d68974row11_col14,#T_2fbe7c5c_0196_11eb_a865_bd7b91d68974row11_col15,#T_2fbe7c5c_0196_11eb_a865_bd7b91d68974row12_col14,#T_2fbe7c5c_0196_11eb_a865_bd7b91d68974row12_col15,#T_2fbe7c5c_0196_11eb_a865_bd7b91d68974row12_col16,#T_2fbe7c5c_0196_11eb_a865_bd7b91d68974row13_col14,#T_2fbe7c5c_0196_11eb_a865_bd7b91d68974row13_col15,#T_2fbe7c5c_0196_11eb_a865_bd7b91d68974row14_col14,#T_2fbe7c5c_0196_11eb_a865_bd7b91d68974row14_col15,#T_2fbe7c5c_0196_11eb_a865_bd7b91d68974row15_col13,#T_2fbe7c5c_0196_11eb_a865_bd7b91d68974row15_col14,#T_2fbe7c5c_0196_11eb_a865_bd7b91d68974row16_col12,#T_2fbe7c5c_0196_11eb_a865_bd7b91d68974row16_col13,#T_2fbe7c5c_0196_11eb_a865_bd7b91d68974row17_col11,#T_2fbe7c5c_0196_11eb_a865_bd7b91d68974row17_col12{\n",
       "            font-size:  10pt;\n",
       "            background-color:  #000000;\n",
       "            color:  #f1f1f1;\n",
       "        }#T_2fbe7c5c_0196_11eb_a865_bd7b91d68974row1_col11{\n",
       "            font-size:  10pt;\n",
       "            background-color:  #606060;\n",
       "            color:  #f1f1f1;\n",
       "        }#T_2fbe7c5c_0196_11eb_a865_bd7b91d68974row1_col12{\n",
       "            font-size:  10pt;\n",
       "            background-color:  #4d4d4d;\n",
       "            color:  #f1f1f1;\n",
       "        }#T_2fbe7c5c_0196_11eb_a865_bd7b91d68974row1_col14{\n",
       "            font-size:  10pt;\n",
       "            background-color:  #bbbbbb;\n",
       "            color:  #000000;\n",
       "        }#T_2fbe7c5c_0196_11eb_a865_bd7b91d68974row2_col3{\n",
       "            font-size:  10pt;\n",
       "            background-color:  #e4e4e4;\n",
       "            color:  #000000;\n",
       "        }#T_2fbe7c5c_0196_11eb_a865_bd7b91d68974row2_col4,#T_2fbe7c5c_0196_11eb_a865_bd7b91d68974row8_col6{\n",
       "            font-size:  10pt;\n",
       "            background-color:  #6b6b6b;\n",
       "            color:  #000000;\n",
       "        }#T_2fbe7c5c_0196_11eb_a865_bd7b91d68974row2_col8,#T_2fbe7c5c_0196_11eb_a865_bd7b91d68974row2_col14,#T_2fbe7c5c_0196_11eb_a865_bd7b91d68974row3_col14,#T_2fbe7c5c_0196_11eb_a865_bd7b91d68974row17_col13{\n",
       "            font-size:  10pt;\n",
       "            background-color:  #171717;\n",
       "            color:  #f1f1f1;\n",
       "        }#T_2fbe7c5c_0196_11eb_a865_bd7b91d68974row2_col9,#T_2fbe7c5c_0196_11eb_a865_bd7b91d68974row3_col11{\n",
       "            font-size:  10pt;\n",
       "            background-color:  #4b4b4b;\n",
       "            color:  #f1f1f1;\n",
       "        }#T_2fbe7c5c_0196_11eb_a865_bd7b91d68974row2_col10,#T_2fbe7c5c_0196_11eb_a865_bd7b91d68974row7_col10,#T_2fbe7c5c_0196_11eb_a865_bd7b91d68974row8_col8,#T_2fbe7c5c_0196_11eb_a865_bd7b91d68974row8_col10,#T_2fbe7c5c_0196_11eb_a865_bd7b91d68974row9_col8,#T_2fbe7c5c_0196_11eb_a865_bd7b91d68974row9_col10{\n",
       "            font-size:  10pt;\n",
       "            background-color:  #010101;\n",
       "            color:  #f1f1f1;\n",
       "        }#T_2fbe7c5c_0196_11eb_a865_bd7b91d68974row3_col1{\n",
       "            font-size:  10pt;\n",
       "            background-color:  #272727;\n",
       "            color:  #f1f1f1;\n",
       "        }#T_2fbe7c5c_0196_11eb_a865_bd7b91d68974row3_col2{\n",
       "            font-size:  10pt;\n",
       "            background-color:  #0a0a0a;\n",
       "            color:  #f1f1f1;\n",
       "        }#T_2fbe7c5c_0196_11eb_a865_bd7b91d68974row3_col3,#T_2fbe7c5c_0196_11eb_a865_bd7b91d68974row14_col13{\n",
       "            font-size:  10pt;\n",
       "            background-color:  #050505;\n",
       "            color:  #f1f1f1;\n",
       "        }#T_2fbe7c5c_0196_11eb_a865_bd7b91d68974row3_col5{\n",
       "            font-size:  10pt;\n",
       "            background-color:  #333333;\n",
       "            color:  #f1f1f1;\n",
       "        }#T_2fbe7c5c_0196_11eb_a865_bd7b91d68974row3_col6{\n",
       "            font-size:  10pt;\n",
       "            background-color:  #e6e6e6;\n",
       "            color:  #000000;\n",
       "        }#T_2fbe7c5c_0196_11eb_a865_bd7b91d68974row3_col7,#T_2fbe7c5c_0196_11eb_a865_bd7b91d68974row3_col10{\n",
       "            font-size:  10pt;\n",
       "            background-color:  #fafafa;\n",
       "            color:  #000000;\n",
       "        }#T_2fbe7c5c_0196_11eb_a865_bd7b91d68974row3_col8,#T_2fbe7c5c_0196_11eb_a865_bd7b91d68974row11_col10,#T_2fbe7c5c_0196_11eb_a865_bd7b91d68974row16_col15{\n",
       "            font-size:  10pt;\n",
       "            background-color:  #fbfbfb;\n",
       "            color:  #000000;\n",
       "        }#T_2fbe7c5c_0196_11eb_a865_bd7b91d68974row3_col9{\n",
       "            font-size:  10pt;\n",
       "            background-color:  #fdfdfd;\n",
       "            color:  #000000;\n",
       "        }#T_2fbe7c5c_0196_11eb_a865_bd7b91d68974row4_col4{\n",
       "            font-size:  10pt;\n",
       "            background-color:  #1b1b1b;\n",
       "            color:  #f1f1f1;\n",
       "        }#T_2fbe7c5c_0196_11eb_a865_bd7b91d68974row4_col5{\n",
       "            font-size:  10pt;\n",
       "            background-color:  #e0e0e0;\n",
       "            color:  #000000;\n",
       "        }#T_2fbe7c5c_0196_11eb_a865_bd7b91d68974row4_col11{\n",
       "            font-size:  10pt;\n",
       "            background-color:  #4e4e4e;\n",
       "            color:  #f1f1f1;\n",
       "        }#T_2fbe7c5c_0196_11eb_a865_bd7b91d68974row4_col14{\n",
       "            font-size:  10pt;\n",
       "            background-color:  #767676;\n",
       "            color:  #000000;\n",
       "        }#T_2fbe7c5c_0196_11eb_a865_bd7b91d68974row5_col1{\n",
       "            font-size:  10pt;\n",
       "            background-color:  #fcfcfc;\n",
       "            color:  #000000;\n",
       "        }#T_2fbe7c5c_0196_11eb_a865_bd7b91d68974row5_col2,#T_2fbe7c5c_0196_11eb_a865_bd7b91d68974row5_col3,#T_2fbe7c5c_0196_11eb_a865_bd7b91d68974row15_col16{\n",
       "            font-size:  10pt;\n",
       "            background-color:  #f6f6f6;\n",
       "            color:  #000000;\n",
       "        }#T_2fbe7c5c_0196_11eb_a865_bd7b91d68974row5_col4,#T_2fbe7c5c_0196_11eb_a865_bd7b91d68974row7_col7{\n",
       "            font-size:  10pt;\n",
       "            background-color:  #f8f8f8;\n",
       "            color:  #000000;\n",
       "        }#T_2fbe7c5c_0196_11eb_a865_bd7b91d68974row5_col10,#T_2fbe7c5c_0196_11eb_a865_bd7b91d68974row10_col7{\n",
       "            font-size:  10pt;\n",
       "            background-color:  #e8e8e8;\n",
       "            color:  #000000;\n",
       "        }#T_2fbe7c5c_0196_11eb_a865_bd7b91d68974row5_col11{\n",
       "            font-size:  10pt;\n",
       "            background-color:  #222222;\n",
       "            color:  #f1f1f1;\n",
       "        }#T_2fbe7c5c_0196_11eb_a865_bd7b91d68974row5_col13,#T_2fbe7c5c_0196_11eb_a865_bd7b91d68974row6_col12{\n",
       "            font-size:  10pt;\n",
       "            background-color:  #090909;\n",
       "            color:  #f1f1f1;\n",
       "        }#T_2fbe7c5c_0196_11eb_a865_bd7b91d68974row5_col14{\n",
       "            font-size:  10pt;\n",
       "            background-color:  #d0d0d0;\n",
       "            color:  #000000;\n",
       "        }#T_2fbe7c5c_0196_11eb_a865_bd7b91d68974row6_col10,#T_2fbe7c5c_0196_11eb_a865_bd7b91d68974row7_col11,#T_2fbe7c5c_0196_11eb_a865_bd7b91d68974row9_col6{\n",
       "            font-size:  10pt;\n",
       "            background-color:  #060606;\n",
       "            color:  #f1f1f1;\n",
       "        }#T_2fbe7c5c_0196_11eb_a865_bd7b91d68974row6_col13{\n",
       "            font-size:  10pt;\n",
       "            background-color:  #979797;\n",
       "            color:  #000000;\n",
       "        }#T_2fbe7c5c_0196_11eb_a865_bd7b91d68974row7_col8{\n",
       "            font-size:  10pt;\n",
       "            background-color:  #b6b6b6;\n",
       "            color:  #000000;\n",
       "        }#T_2fbe7c5c_0196_11eb_a865_bd7b91d68974row7_col9{\n",
       "            font-size:  10pt;\n",
       "            background-color:  #252525;\n",
       "            color:  #f1f1f1;\n",
       "        }#T_2fbe7c5c_0196_11eb_a865_bd7b91d68974row7_col12{\n",
       "            font-size:  10pt;\n",
       "            background-color:  #999999;\n",
       "            color:  #000000;\n",
       "        }#T_2fbe7c5c_0196_11eb_a865_bd7b91d68974row8_col5{\n",
       "            font-size:  10pt;\n",
       "            background-color:  #f9f9f9;\n",
       "            color:  #000000;\n",
       "        }#T_2fbe7c5c_0196_11eb_a865_bd7b91d68974row8_col7{\n",
       "            font-size:  10pt;\n",
       "            background-color:  #101010;\n",
       "            color:  #f1f1f1;\n",
       "        }#T_2fbe7c5c_0196_11eb_a865_bd7b91d68974row8_col9,#T_2fbe7c5c_0196_11eb_a865_bd7b91d68974row9_col9,#T_2fbe7c5c_0196_11eb_a865_bd7b91d68974row17_col10{\n",
       "            font-size:  10pt;\n",
       "            background-color:  #020202;\n",
       "            color:  #f1f1f1;\n",
       "        }#T_2fbe7c5c_0196_11eb_a865_bd7b91d68974row8_col11,#T_2fbe7c5c_0196_11eb_a865_bd7b91d68974row10_col15{\n",
       "            font-size:  10pt;\n",
       "            background-color:  #545454;\n",
       "            color:  #f1f1f1;\n",
       "        }#T_2fbe7c5c_0196_11eb_a865_bd7b91d68974row8_col12{\n",
       "            font-size:  10pt;\n",
       "            background-color:  #f1f1f1;\n",
       "            color:  #000000;\n",
       "        }#T_2fbe7c5c_0196_11eb_a865_bd7b91d68974row9_col5{\n",
       "            font-size:  10pt;\n",
       "            background-color:  #f7f7f7;\n",
       "            color:  #000000;\n",
       "        }#T_2fbe7c5c_0196_11eb_a865_bd7b91d68974row9_col7{\n",
       "            font-size:  10pt;\n",
       "            background-color:  #030303;\n",
       "            color:  #f1f1f1;\n",
       "        }#T_2fbe7c5c_0196_11eb_a865_bd7b91d68974row9_col12{\n",
       "            font-size:  10pt;\n",
       "            background-color:  #181818;\n",
       "            color:  #f1f1f1;\n",
       "        }#T_2fbe7c5c_0196_11eb_a865_bd7b91d68974row9_col13{\n",
       "            font-size:  10pt;\n",
       "            background-color:  #303030;\n",
       "            color:  #f1f1f1;\n",
       "        }#T_2fbe7c5c_0196_11eb_a865_bd7b91d68974row9_col14{\n",
       "            font-size:  10pt;\n",
       "            background-color:  #a9a9a9;\n",
       "            color:  #000000;\n",
       "        }#T_2fbe7c5c_0196_11eb_a865_bd7b91d68974row9_col15{\n",
       "            font-size:  10pt;\n",
       "            background-color:  #fefefe;\n",
       "            color:  #000000;\n",
       "        }#T_2fbe7c5c_0196_11eb_a865_bd7b91d68974row10_col8,#T_2fbe7c5c_0196_11eb_a865_bd7b91d68974row10_col9,#T_2fbe7c5c_0196_11eb_a865_bd7b91d68974row16_col10{\n",
       "            font-size:  10pt;\n",
       "            background-color:  #bababa;\n",
       "            color:  #000000;\n",
       "        }#T_2fbe7c5c_0196_11eb_a865_bd7b91d68974row10_col10{\n",
       "            font-size:  10pt;\n",
       "            background-color:  #393939;\n",
       "            color:  #f1f1f1;\n",
       "        }#T_2fbe7c5c_0196_11eb_a865_bd7b91d68974row10_col16{\n",
       "            font-size:  10pt;\n",
       "            background-color:  #eaeaea;\n",
       "            color:  #000000;\n",
       "        }#T_2fbe7c5c_0196_11eb_a865_bd7b91d68974row11_col11{\n",
       "            font-size:  10pt;\n",
       "            background-color:  #e2e2e2;\n",
       "            color:  #000000;\n",
       "        }#T_2fbe7c5c_0196_11eb_a865_bd7b91d68974row11_col12{\n",
       "            font-size:  10pt;\n",
       "            background-color:  #9f9f9f;\n",
       "            color:  #000000;\n",
       "        }#T_2fbe7c5c_0196_11eb_a865_bd7b91d68974row11_col16{\n",
       "            font-size:  10pt;\n",
       "            background-color:  #898989;\n",
       "            color:  #000000;\n",
       "        }#T_2fbe7c5c_0196_11eb_a865_bd7b91d68974row12_col13{\n",
       "            font-size:  10pt;\n",
       "            background-color:  #585858;\n",
       "            color:  #f1f1f1;\n",
       "        }#T_2fbe7c5c_0196_11eb_a865_bd7b91d68974row13_col13{\n",
       "            font-size:  10pt;\n",
       "            background-color:  #5a5a5a;\n",
       "            color:  #f1f1f1;\n",
       "        }#T_2fbe7c5c_0196_11eb_a865_bd7b91d68974row13_col16{\n",
       "            font-size:  10pt;\n",
       "            background-color:  #525252;\n",
       "            color:  #f1f1f1;\n",
       "        }#T_2fbe7c5c_0196_11eb_a865_bd7b91d68974row14_col12{\n",
       "            font-size:  10pt;\n",
       "            background-color:  #c5c5c5;\n",
       "            color:  #000000;\n",
       "        }#T_2fbe7c5c_0196_11eb_a865_bd7b91d68974row14_col16{\n",
       "            font-size:  10pt;\n",
       "            background-color:  #d7d7d7;\n",
       "            color:  #000000;\n",
       "        }#T_2fbe7c5c_0196_11eb_a865_bd7b91d68974row15_col11{\n",
       "            font-size:  10pt;\n",
       "            background-color:  #dcdcdc;\n",
       "            color:  #000000;\n",
       "        }#T_2fbe7c5c_0196_11eb_a865_bd7b91d68974row15_col12{\n",
       "            font-size:  10pt;\n",
       "            background-color:  #2f2f2f;\n",
       "            color:  #f1f1f1;\n",
       "        }#T_2fbe7c5c_0196_11eb_a865_bd7b91d68974row15_col15{\n",
       "            font-size:  10pt;\n",
       "            background-color:  #636363;\n",
       "            color:  #f1f1f1;\n",
       "        }#T_2fbe7c5c_0196_11eb_a865_bd7b91d68974row16_col11{\n",
       "            font-size:  10pt;\n",
       "            background-color:  #070707;\n",
       "            color:  #f1f1f1;\n",
       "        }#T_2fbe7c5c_0196_11eb_a865_bd7b91d68974row16_col14{\n",
       "            font-size:  10pt;\n",
       "            background-color:  #1f1f1f;\n",
       "            color:  #f1f1f1;\n",
       "        }#T_2fbe7c5c_0196_11eb_a865_bd7b91d68974row17_col8{\n",
       "            font-size:  10pt;\n",
       "            background-color:  #e9e9e9;\n",
       "            color:  #000000;\n",
       "        }#T_2fbe7c5c_0196_11eb_a865_bd7b91d68974row17_col9{\n",
       "            font-size:  10pt;\n",
       "            background-color:  #7d7d7d;\n",
       "            color:  #000000;\n",
       "        }#T_2fbe7c5c_0196_11eb_a865_bd7b91d68974row17_col14{\n",
       "            font-size:  10pt;\n",
       "            background-color:  #e1e1e1;\n",
       "            color:  #000000;\n",
       "        }</style><table id=\"T_2fbe7c5c_0196_11eb_a865_bd7b91d68974\" ><thead>    <tr>        <th class=\"blank level0\" ></th>        <th class=\"col_heading level0 col0\" >0</th>        <th class=\"col_heading level0 col1\" >1</th>        <th class=\"col_heading level0 col2\" >2</th>        <th class=\"col_heading level0 col3\" >3</th>        <th class=\"col_heading level0 col4\" >4</th>        <th class=\"col_heading level0 col5\" >5</th>        <th class=\"col_heading level0 col6\" >6</th>        <th class=\"col_heading level0 col7\" >7</th>        <th class=\"col_heading level0 col8\" >8</th>        <th class=\"col_heading level0 col9\" >9</th>        <th class=\"col_heading level0 col10\" >10</th>        <th class=\"col_heading level0 col11\" >11</th>        <th class=\"col_heading level0 col12\" >12</th>        <th class=\"col_heading level0 col13\" >13</th>        <th class=\"col_heading level0 col14\" >14</th>        <th class=\"col_heading level0 col15\" >15</th>        <th class=\"col_heading level0 col16\" >16</th>        <th class=\"col_heading level0 col17\" >17</th>    </tr></thead><tbody>\n",
       "                <tr>\n",
       "                        <th id=\"T_2fbe7c5c_0196_11eb_a865_bd7b91d68974level0_row0\" class=\"row_heading level0 row0\" >0</th>\n",
       "                        <td id=\"T_2fbe7c5c_0196_11eb_a865_bd7b91d68974row0_col0\" class=\"data row0 col0\" >0</td>\n",
       "                        <td id=\"T_2fbe7c5c_0196_11eb_a865_bd7b91d68974row0_col1\" class=\"data row0 col1\" >0</td>\n",
       "                        <td id=\"T_2fbe7c5c_0196_11eb_a865_bd7b91d68974row0_col2\" class=\"data row0 col2\" >0</td>\n",
       "                        <td id=\"T_2fbe7c5c_0196_11eb_a865_bd7b91d68974row0_col3\" class=\"data row0 col3\" >0</td>\n",
       "                        <td id=\"T_2fbe7c5c_0196_11eb_a865_bd7b91d68974row0_col4\" class=\"data row0 col4\" >0</td>\n",
       "                        <td id=\"T_2fbe7c5c_0196_11eb_a865_bd7b91d68974row0_col5\" class=\"data row0 col5\" >0</td>\n",
       "                        <td id=\"T_2fbe7c5c_0196_11eb_a865_bd7b91d68974row0_col6\" class=\"data row0 col6\" >0</td>\n",
       "                        <td id=\"T_2fbe7c5c_0196_11eb_a865_bd7b91d68974row0_col7\" class=\"data row0 col7\" >0</td>\n",
       "                        <td id=\"T_2fbe7c5c_0196_11eb_a865_bd7b91d68974row0_col8\" class=\"data row0 col8\" >0</td>\n",
       "                        <td id=\"T_2fbe7c5c_0196_11eb_a865_bd7b91d68974row0_col9\" class=\"data row0 col9\" >0</td>\n",
       "                        <td id=\"T_2fbe7c5c_0196_11eb_a865_bd7b91d68974row0_col10\" class=\"data row0 col10\" >0</td>\n",
       "                        <td id=\"T_2fbe7c5c_0196_11eb_a865_bd7b91d68974row0_col11\" class=\"data row0 col11\" >0</td>\n",
       "                        <td id=\"T_2fbe7c5c_0196_11eb_a865_bd7b91d68974row0_col12\" class=\"data row0 col12\" >0</td>\n",
       "                        <td id=\"T_2fbe7c5c_0196_11eb_a865_bd7b91d68974row0_col13\" class=\"data row0 col13\" >0</td>\n",
       "                        <td id=\"T_2fbe7c5c_0196_11eb_a865_bd7b91d68974row0_col14\" class=\"data row0 col14\" >0</td>\n",
       "                        <td id=\"T_2fbe7c5c_0196_11eb_a865_bd7b91d68974row0_col15\" class=\"data row0 col15\" >0</td>\n",
       "                        <td id=\"T_2fbe7c5c_0196_11eb_a865_bd7b91d68974row0_col16\" class=\"data row0 col16\" >0</td>\n",
       "                        <td id=\"T_2fbe7c5c_0196_11eb_a865_bd7b91d68974row0_col17\" class=\"data row0 col17\" >0</td>\n",
       "            </tr>\n",
       "            <tr>\n",
       "                        <th id=\"T_2fbe7c5c_0196_11eb_a865_bd7b91d68974level0_row1\" class=\"row_heading level0 row1\" >1</th>\n",
       "                        <td id=\"T_2fbe7c5c_0196_11eb_a865_bd7b91d68974row1_col0\" class=\"data row1 col0\" >0</td>\n",
       "                        <td id=\"T_2fbe7c5c_0196_11eb_a865_bd7b91d68974row1_col1\" class=\"data row1 col1\" >0</td>\n",
       "                        <td id=\"T_2fbe7c5c_0196_11eb_a865_bd7b91d68974row1_col2\" class=\"data row1 col2\" >0</td>\n",
       "                        <td id=\"T_2fbe7c5c_0196_11eb_a865_bd7b91d68974row1_col3\" class=\"data row1 col3\" >0</td>\n",
       "                        <td id=\"T_2fbe7c5c_0196_11eb_a865_bd7b91d68974row1_col4\" class=\"data row1 col4\" >0</td>\n",
       "                        <td id=\"T_2fbe7c5c_0196_11eb_a865_bd7b91d68974row1_col5\" class=\"data row1 col5\" >29</td>\n",
       "                        <td id=\"T_2fbe7c5c_0196_11eb_a865_bd7b91d68974row1_col6\" class=\"data row1 col6\" >150</td>\n",
       "                        <td id=\"T_2fbe7c5c_0196_11eb_a865_bd7b91d68974row1_col7\" class=\"data row1 col7\" >195</td>\n",
       "                        <td id=\"T_2fbe7c5c_0196_11eb_a865_bd7b91d68974row1_col8\" class=\"data row1 col8\" >254</td>\n",
       "                        <td id=\"T_2fbe7c5c_0196_11eb_a865_bd7b91d68974row1_col9\" class=\"data row1 col9\" >255</td>\n",
       "                        <td id=\"T_2fbe7c5c_0196_11eb_a865_bd7b91d68974row1_col10\" class=\"data row1 col10\" >254</td>\n",
       "                        <td id=\"T_2fbe7c5c_0196_11eb_a865_bd7b91d68974row1_col11\" class=\"data row1 col11\" >176</td>\n",
       "                        <td id=\"T_2fbe7c5c_0196_11eb_a865_bd7b91d68974row1_col12\" class=\"data row1 col12\" >193</td>\n",
       "                        <td id=\"T_2fbe7c5c_0196_11eb_a865_bd7b91d68974row1_col13\" class=\"data row1 col13\" >150</td>\n",
       "                        <td id=\"T_2fbe7c5c_0196_11eb_a865_bd7b91d68974row1_col14\" class=\"data row1 col14\" >96</td>\n",
       "                        <td id=\"T_2fbe7c5c_0196_11eb_a865_bd7b91d68974row1_col15\" class=\"data row1 col15\" >0</td>\n",
       "                        <td id=\"T_2fbe7c5c_0196_11eb_a865_bd7b91d68974row1_col16\" class=\"data row1 col16\" >0</td>\n",
       "                        <td id=\"T_2fbe7c5c_0196_11eb_a865_bd7b91d68974row1_col17\" class=\"data row1 col17\" >0</td>\n",
       "            </tr>\n",
       "            <tr>\n",
       "                        <th id=\"T_2fbe7c5c_0196_11eb_a865_bd7b91d68974level0_row2\" class=\"row_heading level0 row2\" >2</th>\n",
       "                        <td id=\"T_2fbe7c5c_0196_11eb_a865_bd7b91d68974row2_col0\" class=\"data row2 col0\" >0</td>\n",
       "                        <td id=\"T_2fbe7c5c_0196_11eb_a865_bd7b91d68974row2_col1\" class=\"data row2 col1\" >0</td>\n",
       "                        <td id=\"T_2fbe7c5c_0196_11eb_a865_bd7b91d68974row2_col2\" class=\"data row2 col2\" >0</td>\n",
       "                        <td id=\"T_2fbe7c5c_0196_11eb_a865_bd7b91d68974row2_col3\" class=\"data row2 col3\" >48</td>\n",
       "                        <td id=\"T_2fbe7c5c_0196_11eb_a865_bd7b91d68974row2_col4\" class=\"data row2 col4\" >166</td>\n",
       "                        <td id=\"T_2fbe7c5c_0196_11eb_a865_bd7b91d68974row2_col5\" class=\"data row2 col5\" >224</td>\n",
       "                        <td id=\"T_2fbe7c5c_0196_11eb_a865_bd7b91d68974row2_col6\" class=\"data row2 col6\" >253</td>\n",
       "                        <td id=\"T_2fbe7c5c_0196_11eb_a865_bd7b91d68974row2_col7\" class=\"data row2 col7\" >253</td>\n",
       "                        <td id=\"T_2fbe7c5c_0196_11eb_a865_bd7b91d68974row2_col8\" class=\"data row2 col8\" >234</td>\n",
       "                        <td id=\"T_2fbe7c5c_0196_11eb_a865_bd7b91d68974row2_col9\" class=\"data row2 col9\" >196</td>\n",
       "                        <td id=\"T_2fbe7c5c_0196_11eb_a865_bd7b91d68974row2_col10\" class=\"data row2 col10\" >253</td>\n",
       "                        <td id=\"T_2fbe7c5c_0196_11eb_a865_bd7b91d68974row2_col11\" class=\"data row2 col11\" >253</td>\n",
       "                        <td id=\"T_2fbe7c5c_0196_11eb_a865_bd7b91d68974row2_col12\" class=\"data row2 col12\" >253</td>\n",
       "                        <td id=\"T_2fbe7c5c_0196_11eb_a865_bd7b91d68974row2_col13\" class=\"data row2 col13\" >253</td>\n",
       "                        <td id=\"T_2fbe7c5c_0196_11eb_a865_bd7b91d68974row2_col14\" class=\"data row2 col14\" >233</td>\n",
       "                        <td id=\"T_2fbe7c5c_0196_11eb_a865_bd7b91d68974row2_col15\" class=\"data row2 col15\" >0</td>\n",
       "                        <td id=\"T_2fbe7c5c_0196_11eb_a865_bd7b91d68974row2_col16\" class=\"data row2 col16\" >0</td>\n",
       "                        <td id=\"T_2fbe7c5c_0196_11eb_a865_bd7b91d68974row2_col17\" class=\"data row2 col17\" >0</td>\n",
       "            </tr>\n",
       "            <tr>\n",
       "                        <th id=\"T_2fbe7c5c_0196_11eb_a865_bd7b91d68974level0_row3\" class=\"row_heading level0 row3\" >3</th>\n",
       "                        <td id=\"T_2fbe7c5c_0196_11eb_a865_bd7b91d68974row3_col0\" class=\"data row3 col0\" >0</td>\n",
       "                        <td id=\"T_2fbe7c5c_0196_11eb_a865_bd7b91d68974row3_col1\" class=\"data row3 col1\" >93</td>\n",
       "                        <td id=\"T_2fbe7c5c_0196_11eb_a865_bd7b91d68974row3_col2\" class=\"data row3 col2\" >244</td>\n",
       "                        <td id=\"T_2fbe7c5c_0196_11eb_a865_bd7b91d68974row3_col3\" class=\"data row3 col3\" >249</td>\n",
       "                        <td id=\"T_2fbe7c5c_0196_11eb_a865_bd7b91d68974row3_col4\" class=\"data row3 col4\" >253</td>\n",
       "                        <td id=\"T_2fbe7c5c_0196_11eb_a865_bd7b91d68974row3_col5\" class=\"data row3 col5\" >187</td>\n",
       "                        <td id=\"T_2fbe7c5c_0196_11eb_a865_bd7b91d68974row3_col6\" class=\"data row3 col6\" >46</td>\n",
       "                        <td id=\"T_2fbe7c5c_0196_11eb_a865_bd7b91d68974row3_col7\" class=\"data row3 col7\" >10</td>\n",
       "                        <td id=\"T_2fbe7c5c_0196_11eb_a865_bd7b91d68974row3_col8\" class=\"data row3 col8\" >8</td>\n",
       "                        <td id=\"T_2fbe7c5c_0196_11eb_a865_bd7b91d68974row3_col9\" class=\"data row3 col9\" >4</td>\n",
       "                        <td id=\"T_2fbe7c5c_0196_11eb_a865_bd7b91d68974row3_col10\" class=\"data row3 col10\" >10</td>\n",
       "                        <td id=\"T_2fbe7c5c_0196_11eb_a865_bd7b91d68974row3_col11\" class=\"data row3 col11\" >194</td>\n",
       "                        <td id=\"T_2fbe7c5c_0196_11eb_a865_bd7b91d68974row3_col12\" class=\"data row3 col12\" >253</td>\n",
       "                        <td id=\"T_2fbe7c5c_0196_11eb_a865_bd7b91d68974row3_col13\" class=\"data row3 col13\" >253</td>\n",
       "                        <td id=\"T_2fbe7c5c_0196_11eb_a865_bd7b91d68974row3_col14\" class=\"data row3 col14\" >233</td>\n",
       "                        <td id=\"T_2fbe7c5c_0196_11eb_a865_bd7b91d68974row3_col15\" class=\"data row3 col15\" >0</td>\n",
       "                        <td id=\"T_2fbe7c5c_0196_11eb_a865_bd7b91d68974row3_col16\" class=\"data row3 col16\" >0</td>\n",
       "                        <td id=\"T_2fbe7c5c_0196_11eb_a865_bd7b91d68974row3_col17\" class=\"data row3 col17\" >0</td>\n",
       "            </tr>\n",
       "            <tr>\n",
       "                        <th id=\"T_2fbe7c5c_0196_11eb_a865_bd7b91d68974level0_row4\" class=\"row_heading level0 row4\" >4</th>\n",
       "                        <td id=\"T_2fbe7c5c_0196_11eb_a865_bd7b91d68974row4_col0\" class=\"data row4 col0\" >0</td>\n",
       "                        <td id=\"T_2fbe7c5c_0196_11eb_a865_bd7b91d68974row4_col1\" class=\"data row4 col1\" >107</td>\n",
       "                        <td id=\"T_2fbe7c5c_0196_11eb_a865_bd7b91d68974row4_col2\" class=\"data row4 col2\" >253</td>\n",
       "                        <td id=\"T_2fbe7c5c_0196_11eb_a865_bd7b91d68974row4_col3\" class=\"data row4 col3\" >253</td>\n",
       "                        <td id=\"T_2fbe7c5c_0196_11eb_a865_bd7b91d68974row4_col4\" class=\"data row4 col4\" >230</td>\n",
       "                        <td id=\"T_2fbe7c5c_0196_11eb_a865_bd7b91d68974row4_col5\" class=\"data row4 col5\" >48</td>\n",
       "                        <td id=\"T_2fbe7c5c_0196_11eb_a865_bd7b91d68974row4_col6\" class=\"data row4 col6\" >0</td>\n",
       "                        <td id=\"T_2fbe7c5c_0196_11eb_a865_bd7b91d68974row4_col7\" class=\"data row4 col7\" >0</td>\n",
       "                        <td id=\"T_2fbe7c5c_0196_11eb_a865_bd7b91d68974row4_col8\" class=\"data row4 col8\" >0</td>\n",
       "                        <td id=\"T_2fbe7c5c_0196_11eb_a865_bd7b91d68974row4_col9\" class=\"data row4 col9\" >0</td>\n",
       "                        <td id=\"T_2fbe7c5c_0196_11eb_a865_bd7b91d68974row4_col10\" class=\"data row4 col10\" >0</td>\n",
       "                        <td id=\"T_2fbe7c5c_0196_11eb_a865_bd7b91d68974row4_col11\" class=\"data row4 col11\" >192</td>\n",
       "                        <td id=\"T_2fbe7c5c_0196_11eb_a865_bd7b91d68974row4_col12\" class=\"data row4 col12\" >253</td>\n",
       "                        <td id=\"T_2fbe7c5c_0196_11eb_a865_bd7b91d68974row4_col13\" class=\"data row4 col13\" >253</td>\n",
       "                        <td id=\"T_2fbe7c5c_0196_11eb_a865_bd7b91d68974row4_col14\" class=\"data row4 col14\" >156</td>\n",
       "                        <td id=\"T_2fbe7c5c_0196_11eb_a865_bd7b91d68974row4_col15\" class=\"data row4 col15\" >0</td>\n",
       "                        <td id=\"T_2fbe7c5c_0196_11eb_a865_bd7b91d68974row4_col16\" class=\"data row4 col16\" >0</td>\n",
       "                        <td id=\"T_2fbe7c5c_0196_11eb_a865_bd7b91d68974row4_col17\" class=\"data row4 col17\" >0</td>\n",
       "            </tr>\n",
       "            <tr>\n",
       "                        <th id=\"T_2fbe7c5c_0196_11eb_a865_bd7b91d68974level0_row5\" class=\"row_heading level0 row5\" >5</th>\n",
       "                        <td id=\"T_2fbe7c5c_0196_11eb_a865_bd7b91d68974row5_col0\" class=\"data row5 col0\" >0</td>\n",
       "                        <td id=\"T_2fbe7c5c_0196_11eb_a865_bd7b91d68974row5_col1\" class=\"data row5 col1\" >3</td>\n",
       "                        <td id=\"T_2fbe7c5c_0196_11eb_a865_bd7b91d68974row5_col2\" class=\"data row5 col2\" >20</td>\n",
       "                        <td id=\"T_2fbe7c5c_0196_11eb_a865_bd7b91d68974row5_col3\" class=\"data row5 col3\" >20</td>\n",
       "                        <td id=\"T_2fbe7c5c_0196_11eb_a865_bd7b91d68974row5_col4\" class=\"data row5 col4\" >15</td>\n",
       "                        <td id=\"T_2fbe7c5c_0196_11eb_a865_bd7b91d68974row5_col5\" class=\"data row5 col5\" >0</td>\n",
       "                        <td id=\"T_2fbe7c5c_0196_11eb_a865_bd7b91d68974row5_col6\" class=\"data row5 col6\" >0</td>\n",
       "                        <td id=\"T_2fbe7c5c_0196_11eb_a865_bd7b91d68974row5_col7\" class=\"data row5 col7\" >0</td>\n",
       "                        <td id=\"T_2fbe7c5c_0196_11eb_a865_bd7b91d68974row5_col8\" class=\"data row5 col8\" >0</td>\n",
       "                        <td id=\"T_2fbe7c5c_0196_11eb_a865_bd7b91d68974row5_col9\" class=\"data row5 col9\" >0</td>\n",
       "                        <td id=\"T_2fbe7c5c_0196_11eb_a865_bd7b91d68974row5_col10\" class=\"data row5 col10\" >43</td>\n",
       "                        <td id=\"T_2fbe7c5c_0196_11eb_a865_bd7b91d68974row5_col11\" class=\"data row5 col11\" >224</td>\n",
       "                        <td id=\"T_2fbe7c5c_0196_11eb_a865_bd7b91d68974row5_col12\" class=\"data row5 col12\" >253</td>\n",
       "                        <td id=\"T_2fbe7c5c_0196_11eb_a865_bd7b91d68974row5_col13\" class=\"data row5 col13\" >245</td>\n",
       "                        <td id=\"T_2fbe7c5c_0196_11eb_a865_bd7b91d68974row5_col14\" class=\"data row5 col14\" >74</td>\n",
       "                        <td id=\"T_2fbe7c5c_0196_11eb_a865_bd7b91d68974row5_col15\" class=\"data row5 col15\" >0</td>\n",
       "                        <td id=\"T_2fbe7c5c_0196_11eb_a865_bd7b91d68974row5_col16\" class=\"data row5 col16\" >0</td>\n",
       "                        <td id=\"T_2fbe7c5c_0196_11eb_a865_bd7b91d68974row5_col17\" class=\"data row5 col17\" >0</td>\n",
       "            </tr>\n",
       "            <tr>\n",
       "                        <th id=\"T_2fbe7c5c_0196_11eb_a865_bd7b91d68974level0_row6\" class=\"row_heading level0 row6\" >6</th>\n",
       "                        <td id=\"T_2fbe7c5c_0196_11eb_a865_bd7b91d68974row6_col0\" class=\"data row6 col0\" >0</td>\n",
       "                        <td id=\"T_2fbe7c5c_0196_11eb_a865_bd7b91d68974row6_col1\" class=\"data row6 col1\" >0</td>\n",
       "                        <td id=\"T_2fbe7c5c_0196_11eb_a865_bd7b91d68974row6_col2\" class=\"data row6 col2\" >0</td>\n",
       "                        <td id=\"T_2fbe7c5c_0196_11eb_a865_bd7b91d68974row6_col3\" class=\"data row6 col3\" >0</td>\n",
       "                        <td id=\"T_2fbe7c5c_0196_11eb_a865_bd7b91d68974row6_col4\" class=\"data row6 col4\" >0</td>\n",
       "                        <td id=\"T_2fbe7c5c_0196_11eb_a865_bd7b91d68974row6_col5\" class=\"data row6 col5\" >0</td>\n",
       "                        <td id=\"T_2fbe7c5c_0196_11eb_a865_bd7b91d68974row6_col6\" class=\"data row6 col6\" >0</td>\n",
       "                        <td id=\"T_2fbe7c5c_0196_11eb_a865_bd7b91d68974row6_col7\" class=\"data row6 col7\" >0</td>\n",
       "                        <td id=\"T_2fbe7c5c_0196_11eb_a865_bd7b91d68974row6_col8\" class=\"data row6 col8\" >0</td>\n",
       "                        <td id=\"T_2fbe7c5c_0196_11eb_a865_bd7b91d68974row6_col9\" class=\"data row6 col9\" >0</td>\n",
       "                        <td id=\"T_2fbe7c5c_0196_11eb_a865_bd7b91d68974row6_col10\" class=\"data row6 col10\" >249</td>\n",
       "                        <td id=\"T_2fbe7c5c_0196_11eb_a865_bd7b91d68974row6_col11\" class=\"data row6 col11\" >253</td>\n",
       "                        <td id=\"T_2fbe7c5c_0196_11eb_a865_bd7b91d68974row6_col12\" class=\"data row6 col12\" >245</td>\n",
       "                        <td id=\"T_2fbe7c5c_0196_11eb_a865_bd7b91d68974row6_col13\" class=\"data row6 col13\" >126</td>\n",
       "                        <td id=\"T_2fbe7c5c_0196_11eb_a865_bd7b91d68974row6_col14\" class=\"data row6 col14\" >0</td>\n",
       "                        <td id=\"T_2fbe7c5c_0196_11eb_a865_bd7b91d68974row6_col15\" class=\"data row6 col15\" >0</td>\n",
       "                        <td id=\"T_2fbe7c5c_0196_11eb_a865_bd7b91d68974row6_col16\" class=\"data row6 col16\" >0</td>\n",
       "                        <td id=\"T_2fbe7c5c_0196_11eb_a865_bd7b91d68974row6_col17\" class=\"data row6 col17\" >0</td>\n",
       "            </tr>\n",
       "            <tr>\n",
       "                        <th id=\"T_2fbe7c5c_0196_11eb_a865_bd7b91d68974level0_row7\" class=\"row_heading level0 row7\" >7</th>\n",
       "                        <td id=\"T_2fbe7c5c_0196_11eb_a865_bd7b91d68974row7_col0\" class=\"data row7 col0\" >0</td>\n",
       "                        <td id=\"T_2fbe7c5c_0196_11eb_a865_bd7b91d68974row7_col1\" class=\"data row7 col1\" >0</td>\n",
       "                        <td id=\"T_2fbe7c5c_0196_11eb_a865_bd7b91d68974row7_col2\" class=\"data row7 col2\" >0</td>\n",
       "                        <td id=\"T_2fbe7c5c_0196_11eb_a865_bd7b91d68974row7_col3\" class=\"data row7 col3\" >0</td>\n",
       "                        <td id=\"T_2fbe7c5c_0196_11eb_a865_bd7b91d68974row7_col4\" class=\"data row7 col4\" >0</td>\n",
       "                        <td id=\"T_2fbe7c5c_0196_11eb_a865_bd7b91d68974row7_col5\" class=\"data row7 col5\" >0</td>\n",
       "                        <td id=\"T_2fbe7c5c_0196_11eb_a865_bd7b91d68974row7_col6\" class=\"data row7 col6\" >0</td>\n",
       "                        <td id=\"T_2fbe7c5c_0196_11eb_a865_bd7b91d68974row7_col7\" class=\"data row7 col7\" >14</td>\n",
       "                        <td id=\"T_2fbe7c5c_0196_11eb_a865_bd7b91d68974row7_col8\" class=\"data row7 col8\" >101</td>\n",
       "                        <td id=\"T_2fbe7c5c_0196_11eb_a865_bd7b91d68974row7_col9\" class=\"data row7 col9\" >223</td>\n",
       "                        <td id=\"T_2fbe7c5c_0196_11eb_a865_bd7b91d68974row7_col10\" class=\"data row7 col10\" >253</td>\n",
       "                        <td id=\"T_2fbe7c5c_0196_11eb_a865_bd7b91d68974row7_col11\" class=\"data row7 col11\" >248</td>\n",
       "                        <td id=\"T_2fbe7c5c_0196_11eb_a865_bd7b91d68974row7_col12\" class=\"data row7 col12\" >124</td>\n",
       "                        <td id=\"T_2fbe7c5c_0196_11eb_a865_bd7b91d68974row7_col13\" class=\"data row7 col13\" >0</td>\n",
       "                        <td id=\"T_2fbe7c5c_0196_11eb_a865_bd7b91d68974row7_col14\" class=\"data row7 col14\" >0</td>\n",
       "                        <td id=\"T_2fbe7c5c_0196_11eb_a865_bd7b91d68974row7_col15\" class=\"data row7 col15\" >0</td>\n",
       "                        <td id=\"T_2fbe7c5c_0196_11eb_a865_bd7b91d68974row7_col16\" class=\"data row7 col16\" >0</td>\n",
       "                        <td id=\"T_2fbe7c5c_0196_11eb_a865_bd7b91d68974row7_col17\" class=\"data row7 col17\" >0</td>\n",
       "            </tr>\n",
       "            <tr>\n",
       "                        <th id=\"T_2fbe7c5c_0196_11eb_a865_bd7b91d68974level0_row8\" class=\"row_heading level0 row8\" >8</th>\n",
       "                        <td id=\"T_2fbe7c5c_0196_11eb_a865_bd7b91d68974row8_col0\" class=\"data row8 col0\" >0</td>\n",
       "                        <td id=\"T_2fbe7c5c_0196_11eb_a865_bd7b91d68974row8_col1\" class=\"data row8 col1\" >0</td>\n",
       "                        <td id=\"T_2fbe7c5c_0196_11eb_a865_bd7b91d68974row8_col2\" class=\"data row8 col2\" >0</td>\n",
       "                        <td id=\"T_2fbe7c5c_0196_11eb_a865_bd7b91d68974row8_col3\" class=\"data row8 col3\" >0</td>\n",
       "                        <td id=\"T_2fbe7c5c_0196_11eb_a865_bd7b91d68974row8_col4\" class=\"data row8 col4\" >0</td>\n",
       "                        <td id=\"T_2fbe7c5c_0196_11eb_a865_bd7b91d68974row8_col5\" class=\"data row8 col5\" >11</td>\n",
       "                        <td id=\"T_2fbe7c5c_0196_11eb_a865_bd7b91d68974row8_col6\" class=\"data row8 col6\" >166</td>\n",
       "                        <td id=\"T_2fbe7c5c_0196_11eb_a865_bd7b91d68974row8_col7\" class=\"data row8 col7\" >239</td>\n",
       "                        <td id=\"T_2fbe7c5c_0196_11eb_a865_bd7b91d68974row8_col8\" class=\"data row8 col8\" >253</td>\n",
       "                        <td id=\"T_2fbe7c5c_0196_11eb_a865_bd7b91d68974row8_col9\" class=\"data row8 col9\" >253</td>\n",
       "                        <td id=\"T_2fbe7c5c_0196_11eb_a865_bd7b91d68974row8_col10\" class=\"data row8 col10\" >253</td>\n",
       "                        <td id=\"T_2fbe7c5c_0196_11eb_a865_bd7b91d68974row8_col11\" class=\"data row8 col11\" >187</td>\n",
       "                        <td id=\"T_2fbe7c5c_0196_11eb_a865_bd7b91d68974row8_col12\" class=\"data row8 col12\" >30</td>\n",
       "                        <td id=\"T_2fbe7c5c_0196_11eb_a865_bd7b91d68974row8_col13\" class=\"data row8 col13\" >0</td>\n",
       "                        <td id=\"T_2fbe7c5c_0196_11eb_a865_bd7b91d68974row8_col14\" class=\"data row8 col14\" >0</td>\n",
       "                        <td id=\"T_2fbe7c5c_0196_11eb_a865_bd7b91d68974row8_col15\" class=\"data row8 col15\" >0</td>\n",
       "                        <td id=\"T_2fbe7c5c_0196_11eb_a865_bd7b91d68974row8_col16\" class=\"data row8 col16\" >0</td>\n",
       "                        <td id=\"T_2fbe7c5c_0196_11eb_a865_bd7b91d68974row8_col17\" class=\"data row8 col17\" >0</td>\n",
       "            </tr>\n",
       "            <tr>\n",
       "                        <th id=\"T_2fbe7c5c_0196_11eb_a865_bd7b91d68974level0_row9\" class=\"row_heading level0 row9\" >9</th>\n",
       "                        <td id=\"T_2fbe7c5c_0196_11eb_a865_bd7b91d68974row9_col0\" class=\"data row9 col0\" >0</td>\n",
       "                        <td id=\"T_2fbe7c5c_0196_11eb_a865_bd7b91d68974row9_col1\" class=\"data row9 col1\" >0</td>\n",
       "                        <td id=\"T_2fbe7c5c_0196_11eb_a865_bd7b91d68974row9_col2\" class=\"data row9 col2\" >0</td>\n",
       "                        <td id=\"T_2fbe7c5c_0196_11eb_a865_bd7b91d68974row9_col3\" class=\"data row9 col3\" >0</td>\n",
       "                        <td id=\"T_2fbe7c5c_0196_11eb_a865_bd7b91d68974row9_col4\" class=\"data row9 col4\" >0</td>\n",
       "                        <td id=\"T_2fbe7c5c_0196_11eb_a865_bd7b91d68974row9_col5\" class=\"data row9 col5\" >16</td>\n",
       "                        <td id=\"T_2fbe7c5c_0196_11eb_a865_bd7b91d68974row9_col6\" class=\"data row9 col6\" >248</td>\n",
       "                        <td id=\"T_2fbe7c5c_0196_11eb_a865_bd7b91d68974row9_col7\" class=\"data row9 col7\" >250</td>\n",
       "                        <td id=\"T_2fbe7c5c_0196_11eb_a865_bd7b91d68974row9_col8\" class=\"data row9 col8\" >253</td>\n",
       "                        <td id=\"T_2fbe7c5c_0196_11eb_a865_bd7b91d68974row9_col9\" class=\"data row9 col9\" >253</td>\n",
       "                        <td id=\"T_2fbe7c5c_0196_11eb_a865_bd7b91d68974row9_col10\" class=\"data row9 col10\" >253</td>\n",
       "                        <td id=\"T_2fbe7c5c_0196_11eb_a865_bd7b91d68974row9_col11\" class=\"data row9 col11\" >253</td>\n",
       "                        <td id=\"T_2fbe7c5c_0196_11eb_a865_bd7b91d68974row9_col12\" class=\"data row9 col12\" >232</td>\n",
       "                        <td id=\"T_2fbe7c5c_0196_11eb_a865_bd7b91d68974row9_col13\" class=\"data row9 col13\" >213</td>\n",
       "                        <td id=\"T_2fbe7c5c_0196_11eb_a865_bd7b91d68974row9_col14\" class=\"data row9 col14\" >111</td>\n",
       "                        <td id=\"T_2fbe7c5c_0196_11eb_a865_bd7b91d68974row9_col15\" class=\"data row9 col15\" >2</td>\n",
       "                        <td id=\"T_2fbe7c5c_0196_11eb_a865_bd7b91d68974row9_col16\" class=\"data row9 col16\" >0</td>\n",
       "                        <td id=\"T_2fbe7c5c_0196_11eb_a865_bd7b91d68974row9_col17\" class=\"data row9 col17\" >0</td>\n",
       "            </tr>\n",
       "            <tr>\n",
       "                        <th id=\"T_2fbe7c5c_0196_11eb_a865_bd7b91d68974level0_row10\" class=\"row_heading level0 row10\" >10</th>\n",
       "                        <td id=\"T_2fbe7c5c_0196_11eb_a865_bd7b91d68974row10_col0\" class=\"data row10 col0\" >0</td>\n",
       "                        <td id=\"T_2fbe7c5c_0196_11eb_a865_bd7b91d68974row10_col1\" class=\"data row10 col1\" >0</td>\n",
       "                        <td id=\"T_2fbe7c5c_0196_11eb_a865_bd7b91d68974row10_col2\" class=\"data row10 col2\" >0</td>\n",
       "                        <td id=\"T_2fbe7c5c_0196_11eb_a865_bd7b91d68974row10_col3\" class=\"data row10 col3\" >0</td>\n",
       "                        <td id=\"T_2fbe7c5c_0196_11eb_a865_bd7b91d68974row10_col4\" class=\"data row10 col4\" >0</td>\n",
       "                        <td id=\"T_2fbe7c5c_0196_11eb_a865_bd7b91d68974row10_col5\" class=\"data row10 col5\" >0</td>\n",
       "                        <td id=\"T_2fbe7c5c_0196_11eb_a865_bd7b91d68974row10_col6\" class=\"data row10 col6\" >0</td>\n",
       "                        <td id=\"T_2fbe7c5c_0196_11eb_a865_bd7b91d68974row10_col7\" class=\"data row10 col7\" >43</td>\n",
       "                        <td id=\"T_2fbe7c5c_0196_11eb_a865_bd7b91d68974row10_col8\" class=\"data row10 col8\" >98</td>\n",
       "                        <td id=\"T_2fbe7c5c_0196_11eb_a865_bd7b91d68974row10_col9\" class=\"data row10 col9\" >98</td>\n",
       "                        <td id=\"T_2fbe7c5c_0196_11eb_a865_bd7b91d68974row10_col10\" class=\"data row10 col10\" >208</td>\n",
       "                        <td id=\"T_2fbe7c5c_0196_11eb_a865_bd7b91d68974row10_col11\" class=\"data row10 col11\" >253</td>\n",
       "                        <td id=\"T_2fbe7c5c_0196_11eb_a865_bd7b91d68974row10_col12\" class=\"data row10 col12\" >253</td>\n",
       "                        <td id=\"T_2fbe7c5c_0196_11eb_a865_bd7b91d68974row10_col13\" class=\"data row10 col13\" >253</td>\n",
       "                        <td id=\"T_2fbe7c5c_0196_11eb_a865_bd7b91d68974row10_col14\" class=\"data row10 col14\" >253</td>\n",
       "                        <td id=\"T_2fbe7c5c_0196_11eb_a865_bd7b91d68974row10_col15\" class=\"data row10 col15\" >187</td>\n",
       "                        <td id=\"T_2fbe7c5c_0196_11eb_a865_bd7b91d68974row10_col16\" class=\"data row10 col16\" >22</td>\n",
       "                        <td id=\"T_2fbe7c5c_0196_11eb_a865_bd7b91d68974row10_col17\" class=\"data row10 col17\" >0</td>\n",
       "            </tr>\n",
       "            <tr>\n",
       "                        <th id=\"T_2fbe7c5c_0196_11eb_a865_bd7b91d68974level0_row11\" class=\"row_heading level0 row11\" >11</th>\n",
       "                        <td id=\"T_2fbe7c5c_0196_11eb_a865_bd7b91d68974row11_col0\" class=\"data row11 col0\" >0</td>\n",
       "                        <td id=\"T_2fbe7c5c_0196_11eb_a865_bd7b91d68974row11_col1\" class=\"data row11 col1\" >0</td>\n",
       "                        <td id=\"T_2fbe7c5c_0196_11eb_a865_bd7b91d68974row11_col2\" class=\"data row11 col2\" >0</td>\n",
       "                        <td id=\"T_2fbe7c5c_0196_11eb_a865_bd7b91d68974row11_col3\" class=\"data row11 col3\" >0</td>\n",
       "                        <td id=\"T_2fbe7c5c_0196_11eb_a865_bd7b91d68974row11_col4\" class=\"data row11 col4\" >0</td>\n",
       "                        <td id=\"T_2fbe7c5c_0196_11eb_a865_bd7b91d68974row11_col5\" class=\"data row11 col5\" >0</td>\n",
       "                        <td id=\"T_2fbe7c5c_0196_11eb_a865_bd7b91d68974row11_col6\" class=\"data row11 col6\" >0</td>\n",
       "                        <td id=\"T_2fbe7c5c_0196_11eb_a865_bd7b91d68974row11_col7\" class=\"data row11 col7\" >0</td>\n",
       "                        <td id=\"T_2fbe7c5c_0196_11eb_a865_bd7b91d68974row11_col8\" class=\"data row11 col8\" >0</td>\n",
       "                        <td id=\"T_2fbe7c5c_0196_11eb_a865_bd7b91d68974row11_col9\" class=\"data row11 col9\" >0</td>\n",
       "                        <td id=\"T_2fbe7c5c_0196_11eb_a865_bd7b91d68974row11_col10\" class=\"data row11 col10\" >9</td>\n",
       "                        <td id=\"T_2fbe7c5c_0196_11eb_a865_bd7b91d68974row11_col11\" class=\"data row11 col11\" >51</td>\n",
       "                        <td id=\"T_2fbe7c5c_0196_11eb_a865_bd7b91d68974row11_col12\" class=\"data row11 col12\" >119</td>\n",
       "                        <td id=\"T_2fbe7c5c_0196_11eb_a865_bd7b91d68974row11_col13\" class=\"data row11 col13\" >253</td>\n",
       "                        <td id=\"T_2fbe7c5c_0196_11eb_a865_bd7b91d68974row11_col14\" class=\"data row11 col14\" >253</td>\n",
       "                        <td id=\"T_2fbe7c5c_0196_11eb_a865_bd7b91d68974row11_col15\" class=\"data row11 col15\" >253</td>\n",
       "                        <td id=\"T_2fbe7c5c_0196_11eb_a865_bd7b91d68974row11_col16\" class=\"data row11 col16\" >76</td>\n",
       "                        <td id=\"T_2fbe7c5c_0196_11eb_a865_bd7b91d68974row11_col17\" class=\"data row11 col17\" >0</td>\n",
       "            </tr>\n",
       "            <tr>\n",
       "                        <th id=\"T_2fbe7c5c_0196_11eb_a865_bd7b91d68974level0_row12\" class=\"row_heading level0 row12\" >12</th>\n",
       "                        <td id=\"T_2fbe7c5c_0196_11eb_a865_bd7b91d68974row12_col0\" class=\"data row12 col0\" >0</td>\n",
       "                        <td id=\"T_2fbe7c5c_0196_11eb_a865_bd7b91d68974row12_col1\" class=\"data row12 col1\" >0</td>\n",
       "                        <td id=\"T_2fbe7c5c_0196_11eb_a865_bd7b91d68974row12_col2\" class=\"data row12 col2\" >0</td>\n",
       "                        <td id=\"T_2fbe7c5c_0196_11eb_a865_bd7b91d68974row12_col3\" class=\"data row12 col3\" >0</td>\n",
       "                        <td id=\"T_2fbe7c5c_0196_11eb_a865_bd7b91d68974row12_col4\" class=\"data row12 col4\" >0</td>\n",
       "                        <td id=\"T_2fbe7c5c_0196_11eb_a865_bd7b91d68974row12_col5\" class=\"data row12 col5\" >0</td>\n",
       "                        <td id=\"T_2fbe7c5c_0196_11eb_a865_bd7b91d68974row12_col6\" class=\"data row12 col6\" >0</td>\n",
       "                        <td id=\"T_2fbe7c5c_0196_11eb_a865_bd7b91d68974row12_col7\" class=\"data row12 col7\" >0</td>\n",
       "                        <td id=\"T_2fbe7c5c_0196_11eb_a865_bd7b91d68974row12_col8\" class=\"data row12 col8\" >0</td>\n",
       "                        <td id=\"T_2fbe7c5c_0196_11eb_a865_bd7b91d68974row12_col9\" class=\"data row12 col9\" >0</td>\n",
       "                        <td id=\"T_2fbe7c5c_0196_11eb_a865_bd7b91d68974row12_col10\" class=\"data row12 col10\" >0</td>\n",
       "                        <td id=\"T_2fbe7c5c_0196_11eb_a865_bd7b91d68974row12_col11\" class=\"data row12 col11\" >0</td>\n",
       "                        <td id=\"T_2fbe7c5c_0196_11eb_a865_bd7b91d68974row12_col12\" class=\"data row12 col12\" >1</td>\n",
       "                        <td id=\"T_2fbe7c5c_0196_11eb_a865_bd7b91d68974row12_col13\" class=\"data row12 col13\" >183</td>\n",
       "                        <td id=\"T_2fbe7c5c_0196_11eb_a865_bd7b91d68974row12_col14\" class=\"data row12 col14\" >253</td>\n",
       "                        <td id=\"T_2fbe7c5c_0196_11eb_a865_bd7b91d68974row12_col15\" class=\"data row12 col15\" >253</td>\n",
       "                        <td id=\"T_2fbe7c5c_0196_11eb_a865_bd7b91d68974row12_col16\" class=\"data row12 col16\" >139</td>\n",
       "                        <td id=\"T_2fbe7c5c_0196_11eb_a865_bd7b91d68974row12_col17\" class=\"data row12 col17\" >0</td>\n",
       "            </tr>\n",
       "            <tr>\n",
       "                        <th id=\"T_2fbe7c5c_0196_11eb_a865_bd7b91d68974level0_row13\" class=\"row_heading level0 row13\" >13</th>\n",
       "                        <td id=\"T_2fbe7c5c_0196_11eb_a865_bd7b91d68974row13_col0\" class=\"data row13 col0\" >0</td>\n",
       "                        <td id=\"T_2fbe7c5c_0196_11eb_a865_bd7b91d68974row13_col1\" class=\"data row13 col1\" >0</td>\n",
       "                        <td id=\"T_2fbe7c5c_0196_11eb_a865_bd7b91d68974row13_col2\" class=\"data row13 col2\" >0</td>\n",
       "                        <td id=\"T_2fbe7c5c_0196_11eb_a865_bd7b91d68974row13_col3\" class=\"data row13 col3\" >0</td>\n",
       "                        <td id=\"T_2fbe7c5c_0196_11eb_a865_bd7b91d68974row13_col4\" class=\"data row13 col4\" >0</td>\n",
       "                        <td id=\"T_2fbe7c5c_0196_11eb_a865_bd7b91d68974row13_col5\" class=\"data row13 col5\" >0</td>\n",
       "                        <td id=\"T_2fbe7c5c_0196_11eb_a865_bd7b91d68974row13_col6\" class=\"data row13 col6\" >0</td>\n",
       "                        <td id=\"T_2fbe7c5c_0196_11eb_a865_bd7b91d68974row13_col7\" class=\"data row13 col7\" >0</td>\n",
       "                        <td id=\"T_2fbe7c5c_0196_11eb_a865_bd7b91d68974row13_col8\" class=\"data row13 col8\" >0</td>\n",
       "                        <td id=\"T_2fbe7c5c_0196_11eb_a865_bd7b91d68974row13_col9\" class=\"data row13 col9\" >0</td>\n",
       "                        <td id=\"T_2fbe7c5c_0196_11eb_a865_bd7b91d68974row13_col10\" class=\"data row13 col10\" >0</td>\n",
       "                        <td id=\"T_2fbe7c5c_0196_11eb_a865_bd7b91d68974row13_col11\" class=\"data row13 col11\" >0</td>\n",
       "                        <td id=\"T_2fbe7c5c_0196_11eb_a865_bd7b91d68974row13_col12\" class=\"data row13 col12\" >0</td>\n",
       "                        <td id=\"T_2fbe7c5c_0196_11eb_a865_bd7b91d68974row13_col13\" class=\"data row13 col13\" >182</td>\n",
       "                        <td id=\"T_2fbe7c5c_0196_11eb_a865_bd7b91d68974row13_col14\" class=\"data row13 col14\" >253</td>\n",
       "                        <td id=\"T_2fbe7c5c_0196_11eb_a865_bd7b91d68974row13_col15\" class=\"data row13 col15\" >253</td>\n",
       "                        <td id=\"T_2fbe7c5c_0196_11eb_a865_bd7b91d68974row13_col16\" class=\"data row13 col16\" >104</td>\n",
       "                        <td id=\"T_2fbe7c5c_0196_11eb_a865_bd7b91d68974row13_col17\" class=\"data row13 col17\" >0</td>\n",
       "            </tr>\n",
       "            <tr>\n",
       "                        <th id=\"T_2fbe7c5c_0196_11eb_a865_bd7b91d68974level0_row14\" class=\"row_heading level0 row14\" >14</th>\n",
       "                        <td id=\"T_2fbe7c5c_0196_11eb_a865_bd7b91d68974row14_col0\" class=\"data row14 col0\" >0</td>\n",
       "                        <td id=\"T_2fbe7c5c_0196_11eb_a865_bd7b91d68974row14_col1\" class=\"data row14 col1\" >0</td>\n",
       "                        <td id=\"T_2fbe7c5c_0196_11eb_a865_bd7b91d68974row14_col2\" class=\"data row14 col2\" >0</td>\n",
       "                        <td id=\"T_2fbe7c5c_0196_11eb_a865_bd7b91d68974row14_col3\" class=\"data row14 col3\" >0</td>\n",
       "                        <td id=\"T_2fbe7c5c_0196_11eb_a865_bd7b91d68974row14_col4\" class=\"data row14 col4\" >0</td>\n",
       "                        <td id=\"T_2fbe7c5c_0196_11eb_a865_bd7b91d68974row14_col5\" class=\"data row14 col5\" >0</td>\n",
       "                        <td id=\"T_2fbe7c5c_0196_11eb_a865_bd7b91d68974row14_col6\" class=\"data row14 col6\" >0</td>\n",
       "                        <td id=\"T_2fbe7c5c_0196_11eb_a865_bd7b91d68974row14_col7\" class=\"data row14 col7\" >0</td>\n",
       "                        <td id=\"T_2fbe7c5c_0196_11eb_a865_bd7b91d68974row14_col8\" class=\"data row14 col8\" >0</td>\n",
       "                        <td id=\"T_2fbe7c5c_0196_11eb_a865_bd7b91d68974row14_col9\" class=\"data row14 col9\" >0</td>\n",
       "                        <td id=\"T_2fbe7c5c_0196_11eb_a865_bd7b91d68974row14_col10\" class=\"data row14 col10\" >0</td>\n",
       "                        <td id=\"T_2fbe7c5c_0196_11eb_a865_bd7b91d68974row14_col11\" class=\"data row14 col11\" >0</td>\n",
       "                        <td id=\"T_2fbe7c5c_0196_11eb_a865_bd7b91d68974row14_col12\" class=\"data row14 col12\" >85</td>\n",
       "                        <td id=\"T_2fbe7c5c_0196_11eb_a865_bd7b91d68974row14_col13\" class=\"data row14 col13\" >249</td>\n",
       "                        <td id=\"T_2fbe7c5c_0196_11eb_a865_bd7b91d68974row14_col14\" class=\"data row14 col14\" >253</td>\n",
       "                        <td id=\"T_2fbe7c5c_0196_11eb_a865_bd7b91d68974row14_col15\" class=\"data row14 col15\" >253</td>\n",
       "                        <td id=\"T_2fbe7c5c_0196_11eb_a865_bd7b91d68974row14_col16\" class=\"data row14 col16\" >36</td>\n",
       "                        <td id=\"T_2fbe7c5c_0196_11eb_a865_bd7b91d68974row14_col17\" class=\"data row14 col17\" >0</td>\n",
       "            </tr>\n",
       "            <tr>\n",
       "                        <th id=\"T_2fbe7c5c_0196_11eb_a865_bd7b91d68974level0_row15\" class=\"row_heading level0 row15\" >15</th>\n",
       "                        <td id=\"T_2fbe7c5c_0196_11eb_a865_bd7b91d68974row15_col0\" class=\"data row15 col0\" >0</td>\n",
       "                        <td id=\"T_2fbe7c5c_0196_11eb_a865_bd7b91d68974row15_col1\" class=\"data row15 col1\" >0</td>\n",
       "                        <td id=\"T_2fbe7c5c_0196_11eb_a865_bd7b91d68974row15_col2\" class=\"data row15 col2\" >0</td>\n",
       "                        <td id=\"T_2fbe7c5c_0196_11eb_a865_bd7b91d68974row15_col3\" class=\"data row15 col3\" >0</td>\n",
       "                        <td id=\"T_2fbe7c5c_0196_11eb_a865_bd7b91d68974row15_col4\" class=\"data row15 col4\" >0</td>\n",
       "                        <td id=\"T_2fbe7c5c_0196_11eb_a865_bd7b91d68974row15_col5\" class=\"data row15 col5\" >0</td>\n",
       "                        <td id=\"T_2fbe7c5c_0196_11eb_a865_bd7b91d68974row15_col6\" class=\"data row15 col6\" >0</td>\n",
       "                        <td id=\"T_2fbe7c5c_0196_11eb_a865_bd7b91d68974row15_col7\" class=\"data row15 col7\" >0</td>\n",
       "                        <td id=\"T_2fbe7c5c_0196_11eb_a865_bd7b91d68974row15_col8\" class=\"data row15 col8\" >0</td>\n",
       "                        <td id=\"T_2fbe7c5c_0196_11eb_a865_bd7b91d68974row15_col9\" class=\"data row15 col9\" >0</td>\n",
       "                        <td id=\"T_2fbe7c5c_0196_11eb_a865_bd7b91d68974row15_col10\" class=\"data row15 col10\" >0</td>\n",
       "                        <td id=\"T_2fbe7c5c_0196_11eb_a865_bd7b91d68974row15_col11\" class=\"data row15 col11\" >60</td>\n",
       "                        <td id=\"T_2fbe7c5c_0196_11eb_a865_bd7b91d68974row15_col12\" class=\"data row15 col12\" >214</td>\n",
       "                        <td id=\"T_2fbe7c5c_0196_11eb_a865_bd7b91d68974row15_col13\" class=\"data row15 col13\" >253</td>\n",
       "                        <td id=\"T_2fbe7c5c_0196_11eb_a865_bd7b91d68974row15_col14\" class=\"data row15 col14\" >253</td>\n",
       "                        <td id=\"T_2fbe7c5c_0196_11eb_a865_bd7b91d68974row15_col15\" class=\"data row15 col15\" >173</td>\n",
       "                        <td id=\"T_2fbe7c5c_0196_11eb_a865_bd7b91d68974row15_col16\" class=\"data row15 col16\" >11</td>\n",
       "                        <td id=\"T_2fbe7c5c_0196_11eb_a865_bd7b91d68974row15_col17\" class=\"data row15 col17\" >0</td>\n",
       "            </tr>\n",
       "            <tr>\n",
       "                        <th id=\"T_2fbe7c5c_0196_11eb_a865_bd7b91d68974level0_row16\" class=\"row_heading level0 row16\" >16</th>\n",
       "                        <td id=\"T_2fbe7c5c_0196_11eb_a865_bd7b91d68974row16_col0\" class=\"data row16 col0\" >0</td>\n",
       "                        <td id=\"T_2fbe7c5c_0196_11eb_a865_bd7b91d68974row16_col1\" class=\"data row16 col1\" >0</td>\n",
       "                        <td id=\"T_2fbe7c5c_0196_11eb_a865_bd7b91d68974row16_col2\" class=\"data row16 col2\" >0</td>\n",
       "                        <td id=\"T_2fbe7c5c_0196_11eb_a865_bd7b91d68974row16_col3\" class=\"data row16 col3\" >0</td>\n",
       "                        <td id=\"T_2fbe7c5c_0196_11eb_a865_bd7b91d68974row16_col4\" class=\"data row16 col4\" >0</td>\n",
       "                        <td id=\"T_2fbe7c5c_0196_11eb_a865_bd7b91d68974row16_col5\" class=\"data row16 col5\" >0</td>\n",
       "                        <td id=\"T_2fbe7c5c_0196_11eb_a865_bd7b91d68974row16_col6\" class=\"data row16 col6\" >0</td>\n",
       "                        <td id=\"T_2fbe7c5c_0196_11eb_a865_bd7b91d68974row16_col7\" class=\"data row16 col7\" >0</td>\n",
       "                        <td id=\"T_2fbe7c5c_0196_11eb_a865_bd7b91d68974row16_col8\" class=\"data row16 col8\" >0</td>\n",
       "                        <td id=\"T_2fbe7c5c_0196_11eb_a865_bd7b91d68974row16_col9\" class=\"data row16 col9\" >0</td>\n",
       "                        <td id=\"T_2fbe7c5c_0196_11eb_a865_bd7b91d68974row16_col10\" class=\"data row16 col10\" >98</td>\n",
       "                        <td id=\"T_2fbe7c5c_0196_11eb_a865_bd7b91d68974row16_col11\" class=\"data row16 col11\" >247</td>\n",
       "                        <td id=\"T_2fbe7c5c_0196_11eb_a865_bd7b91d68974row16_col12\" class=\"data row16 col12\" >253</td>\n",
       "                        <td id=\"T_2fbe7c5c_0196_11eb_a865_bd7b91d68974row16_col13\" class=\"data row16 col13\" >253</td>\n",
       "                        <td id=\"T_2fbe7c5c_0196_11eb_a865_bd7b91d68974row16_col14\" class=\"data row16 col14\" >226</td>\n",
       "                        <td id=\"T_2fbe7c5c_0196_11eb_a865_bd7b91d68974row16_col15\" class=\"data row16 col15\" >9</td>\n",
       "                        <td id=\"T_2fbe7c5c_0196_11eb_a865_bd7b91d68974row16_col16\" class=\"data row16 col16\" >0</td>\n",
       "                        <td id=\"T_2fbe7c5c_0196_11eb_a865_bd7b91d68974row16_col17\" class=\"data row16 col17\" >0</td>\n",
       "            </tr>\n",
       "            <tr>\n",
       "                        <th id=\"T_2fbe7c5c_0196_11eb_a865_bd7b91d68974level0_row17\" class=\"row_heading level0 row17\" >17</th>\n",
       "                        <td id=\"T_2fbe7c5c_0196_11eb_a865_bd7b91d68974row17_col0\" class=\"data row17 col0\" >0</td>\n",
       "                        <td id=\"T_2fbe7c5c_0196_11eb_a865_bd7b91d68974row17_col1\" class=\"data row17 col1\" >0</td>\n",
       "                        <td id=\"T_2fbe7c5c_0196_11eb_a865_bd7b91d68974row17_col2\" class=\"data row17 col2\" >0</td>\n",
       "                        <td id=\"T_2fbe7c5c_0196_11eb_a865_bd7b91d68974row17_col3\" class=\"data row17 col3\" >0</td>\n",
       "                        <td id=\"T_2fbe7c5c_0196_11eb_a865_bd7b91d68974row17_col4\" class=\"data row17 col4\" >0</td>\n",
       "                        <td id=\"T_2fbe7c5c_0196_11eb_a865_bd7b91d68974row17_col5\" class=\"data row17 col5\" >0</td>\n",
       "                        <td id=\"T_2fbe7c5c_0196_11eb_a865_bd7b91d68974row17_col6\" class=\"data row17 col6\" >0</td>\n",
       "                        <td id=\"T_2fbe7c5c_0196_11eb_a865_bd7b91d68974row17_col7\" class=\"data row17 col7\" >0</td>\n",
       "                        <td id=\"T_2fbe7c5c_0196_11eb_a865_bd7b91d68974row17_col8\" class=\"data row17 col8\" >42</td>\n",
       "                        <td id=\"T_2fbe7c5c_0196_11eb_a865_bd7b91d68974row17_col9\" class=\"data row17 col9\" >150</td>\n",
       "                        <td id=\"T_2fbe7c5c_0196_11eb_a865_bd7b91d68974row17_col10\" class=\"data row17 col10\" >252</td>\n",
       "                        <td id=\"T_2fbe7c5c_0196_11eb_a865_bd7b91d68974row17_col11\" class=\"data row17 col11\" >253</td>\n",
       "                        <td id=\"T_2fbe7c5c_0196_11eb_a865_bd7b91d68974row17_col12\" class=\"data row17 col12\" >253</td>\n",
       "                        <td id=\"T_2fbe7c5c_0196_11eb_a865_bd7b91d68974row17_col13\" class=\"data row17 col13\" >233</td>\n",
       "                        <td id=\"T_2fbe7c5c_0196_11eb_a865_bd7b91d68974row17_col14\" class=\"data row17 col14\" >53</td>\n",
       "                        <td id=\"T_2fbe7c5c_0196_11eb_a865_bd7b91d68974row17_col15\" class=\"data row17 col15\" >0</td>\n",
       "                        <td id=\"T_2fbe7c5c_0196_11eb_a865_bd7b91d68974row17_col16\" class=\"data row17 col16\" >0</td>\n",
       "                        <td id=\"T_2fbe7c5c_0196_11eb_a865_bd7b91d68974row17_col17\" class=\"data row17 col17\" >0</td>\n",
       "            </tr>\n",
       "    </tbody></table>"
      ],
      "text/plain": [
       "<pandas.io.formats.style.Styler at 0x7f63204ff590>"
      ]
     },
     "execution_count": 30,
     "metadata": {},
     "output_type": "execute_result"
    }
   ],
   "source": [
    "img3_t = tensor(im3)\n",
    "df = pd.DataFrame(img3_t[4:22, 4:22])\n",
    "## Just setting the font-size and a background color as Grey with some gradient to see the \n",
    "## density of the pixels\n",
    "df.style.set_properties(**{'font-size':'10pt'}).background_gradient('Greys')"
   ]
  },
  {
   "cell_type": "markdown",
   "metadata": {},
   "source": [
    "### Creating a SIMPLE Model"
   ]
  },
  {
   "cell_type": "markdown",
   "metadata": {},
   "source": [
    "We are going to create a simple model that takes the AVG (averages) of each class to predict and use that to check if a new image pixels are near the average of the 3 or the 7."
   ]
  },
  {
   "cell_type": "code",
   "execution_count": 31,
   "metadata": {},
   "outputs": [
    {
     "data": {
      "text/plain": [
       "(6131, 6265)"
      ]
     },
     "execution_count": 31,
     "metadata": {},
     "output_type": "execute_result"
    }
   ],
   "source": [
    "seven_tensors = [tensor(Image.open(path)) for path in sevens]\n",
    "three_tensors = [tensor(Image.open(path)) for path in threes]\n",
    "len(three_tensors), len(seven_tensors)"
   ]
  },
  {
   "cell_type": "markdown",
   "metadata": {},
   "source": [
    "This is getting each path for the corresponding images and transforming them into a tensor, however all those tensors are inside a list"
   ]
  },
  {
   "cell_type": "code",
   "execution_count": 35,
   "metadata": {},
   "outputs": [
    {
     "data": {
      "text/plain": [
       "list"
      ]
     },
     "execution_count": 35,
     "metadata": {},
     "output_type": "execute_result"
    }
   ],
   "source": [
    "type(seven_tensors)"
   ]
  },
  {
   "cell_type": "code",
   "execution_count": 34,
   "metadata": {},
   "outputs": [
    {
     "data": {
      "text/plain": [
       "torch.Tensor"
      ]
     },
     "execution_count": 34,
     "metadata": {},
     "output_type": "execute_result"
    }
   ],
   "source": [
    "type(seven_tensors[0])"
   ]
  },
  {
   "cell_type": "code",
   "execution_count": 36,
   "metadata": {},
   "outputs": [
    {
     "data": {
      "image/png": "[encoded data removed]",
      "text/plain": [
       "<Figure size 72x72 with 1 Axes>"
      ]
     },
     "metadata": {
      "needs_background": "light"
     },
     "output_type": "display_data"
    }
   ],
   "source": [
    "show_image(seven_tensors[5]);"
   ]
  },
  {
   "cell_type": "markdown",
   "metadata": {},
   "source": [
    "show_image() is going to transform those tensors into a image because each value inside the tensor represent a pixel"
   ]
  },
  {
   "cell_type": "markdown",
   "metadata": {},
   "source": [
    "We would like to compute the avg of the density of each pixel. We will neet to stack each image and create a 3 dimencional tensor, which the hight is going to be the amount of images, and the other 2 dimensions are going to be 28x28 pixels size. We can use the stack method given us by pytorch."
   ]
  },
  {
   "cell_type": "code",
   "execution_count": 37,
   "metadata": {},
   "outputs": [
    {
     "data": {
      "text/plain": [
       "torch.Size([6131, 28, 28])"
      ]
     },
     "execution_count": 37,
     "metadata": {},
     "output_type": "execute_result"
    }
   ],
   "source": [
    "stacked_sevens = torch.stack(seven_tensors).float() / 255\n",
    "stacked_threes = torch.stack(three_tensors).float() / 255\n",
    "stacked_threes.shape"
   ]
  },
  {
   "cell_type": "markdown",
   "metadata": {},
   "source": [
    "we can also check the dimensions by calling ndim"
   ]
  },
  {
   "cell_type": "code",
   "execution_count": 46,
   "metadata": {},
   "outputs": [
    {
     "data": {
      "text/plain": [
       "3"
      ]
     },
     "execution_count": 46,
     "metadata": {},
     "output_type": "execute_result"
    }
   ],
   "source": [
    "stacked_threes.ndim"
   ]
  },
  {
   "cell_type": "code",
   "execution_count": 48,
   "metadata": {},
   "outputs": [
    {
     "data": {
      "text/plain": [
       "<AxesSubplot:>"
      ]
     },
     "execution_count": 48,
     "metadata": {},
     "output_type": "execute_result"
    },
    {
     "data": {
      "image/png": "[encoded data removed]",
      "text/plain": [
       "<Figure size 72x72 with 1 Axes>"
      ]
     },
     "metadata": {
      "needs_background": "light"
     },
     "output_type": "display_data"
    }
   ],
   "source": [
    "mean3 = stacked_threes.mean(0)\n",
    "show_image(mean3)"
   ]
  },
  {
   "cell_type": "code",
   "execution_count": 52,
   "metadata": {},
   "outputs": [
    {
     "data": {
      "text/plain": [
       "<AxesSubplot:>"
      ]
     },
     "execution_count": 52,
     "metadata": {},
     "output_type": "execute_result"
    },
    {
     "data": {
      "image/png": "[encoded data removed]",
      "text/plain": [
       "<Figure size 72x72 with 1 Axes>"
      ]
     },
     "metadata": {
      "needs_background": "light"
     },
     "output_type": "display_data"
    }
   ],
   "source": [
    "mean7 = stacked_sevens.mean(0)\n",
    "show_image(mean7)"
   ]
  },
  {
   "cell_type": "markdown",
   "metadata": {},
   "source": [
    "Now we have the ideal digits for 3 and 7.\n",
    "Let us pick an arbitrary 3 and measure its distance to the ideal one.\n",
    "We are going to explain two different ways\n",
    "- Take the mean of the *absolute value* of differences (absolute value is the function that replaces negative values with positive values). This is called the *mean absolute difference* or *L1 norm*\n",
    "- Take the mean of the *square* of differences (which makes everything positive) and then take the *square root* (which undoes the squaring). This is called the *root mean squared error* (RMSE) or *L2 norm*."
   ]
  },
  {
   "cell_type": "code",
   "execution_count": 53,
   "metadata": {},
   "outputs": [
    {
     "data": {
      "image/png": "[encoded data removed]",
      "text/plain": [
       "<Figure size 72x72 with 1 Axes>"
      ]
     },
     "metadata": {
      "needs_background": "light"
     },
     "output_type": "display_data"
    }
   ],
   "source": [
    "a_3 = stacked_threes[3]\n",
    "show_image(a_3);"
   ]
  },
  {
   "cell_type": "code",
   "execution_count": 55,
   "metadata": {},
   "outputs": [
    {
     "data": {
      "text/plain": [
       "(tensor(0.1154), tensor(0.2064))"
      ]
     },
     "execution_count": 55,
     "metadata": {},
     "output_type": "execute_result"
    }
   ],
   "source": [
    "dist_3_abs = (a_3 - mean3).abs().mean()\n",
    "dist_3_sqr = ((a_3 - mean3)**2).mean().sqrt()\n",
    "dist_3_abs, dist_3_sqr"
   ]
  },
  {
   "cell_type": "code",
   "execution_count": 56,
   "metadata": {},
   "outputs": [
    {
     "data": {
      "text/plain": [
       "(tensor(0.1669), tensor(0.3170))"
      ]
     },
     "execution_count": 56,
     "metadata": {},
     "output_type": "execute_result"
    }
   ],
   "source": [
    "dist_7_abs = (a_3 - mean7).abs().mean()\n",
    "dist_7_sqr = ((a_3 - mean7)**2).mean().sqrt()\n",
    "dist_7_abs, dist_7_sqr"
   ]
  },
  {
   "cell_type": "markdown",
   "metadata": {},
   "source": [
    " We can see that the distance betweem the 3 and the \"ideal\" 3 is shorter than the \"ideal\" 7\n",
    " pytorch already provides both of these as loss functions"
   ]
  },
  {
   "cell_type": "code",
   "execution_count": 58,
   "metadata": {},
   "outputs": [
    {
     "data": {
      "text/plain": [
       "(tensor(0.1669), tensor(0.3170))"
      ]
     },
     "execution_count": 58,
     "metadata": {},
     "output_type": "execute_result"
    }
   ],
   "source": [
    "F.l1_loss(a_3.float(), mean7), F.mse_loss(a_3, mean7).sqrt()"
   ]
  },
  {
   "cell_type": "markdown",
   "metadata": {},
   "source": [
    "The mean_square_error will penalize bigger mistakes more heavily and be more lenient with small mistakes"
   ]
  },
  {
   "cell_type": "markdown",
   "metadata": {},
   "source": [
    "### Metric"
   ]
  },
  {
   "cell_type": "markdown",
   "metadata": {},
   "source": [
    "A metric is a number that is calculated based on the predictions of our model, and the correct labels in our dataset, in order to tell us how good our model is.\n",
    "Remeber that the Mnist dataset already has a directory called \"Valid\". This directory contains the data where we are going to calculate how well our model operates."
   ]
  },
  {
   "cell_type": "markdown",
   "metadata": {},
   "source": [
    "We are going to use the 'stack' pytorch operation to stack all the images contain in de valid directory"
   ]
  },
  {
   "cell_type": "code",
   "execution_count": 59,
   "metadata": {},
   "outputs": [
    {
     "data": {
      "text/plain": [
       "(torch.Size([1010, 28, 28]), torch.Size([1028, 28, 28]))"
      ]
     },
     "execution_count": 59,
     "metadata": {},
     "output_type": "execute_result"
    }
   ],
   "source": [
    "valid_3_tens = torch.stack([tensor(Image.open(path)) \n",
    "                            for path in (path/'valid'/'3').ls()])\n",
    "valid_3_tens = valid_3_tens.float()/255\n",
    "valid_7_tens = torch.stack([tensor(Image.open(path)) \n",
    "                            for path in (path/'valid'/'7').ls()])\n",
    "valid_7_tens = valid_7_tens.float()/255\n",
    "valid_3_tens.shape,valid_7_tens.shape"
   ]
  },
  {
   "cell_type": "markdown",
   "metadata": {},
   "source": [
    "Here we see two tensors, one representing the 3s validation set of 1,010 images of size 28×28, and one representing the 7s validation set of 1,028 images of size 28×28."
   ]
  },
  {
   "cell_type": "markdown",
   "metadata": {},
   "source": [
    "We can write a simple function that calculates the mean absolute error using an experssion very similar to the one we wrote in the last section:"
   ]
  },
  {
   "cell_type": "code",
   "execution_count": 60,
   "metadata": {},
   "outputs": [],
   "source": [
    "def mnist_distance(a,b): return (a-b).abs().mean((-1,-2))"
   ]
  },
  {
   "cell_type": "code",
   "execution_count": 61,
   "metadata": {},
   "outputs": [
    {
     "data": {
      "text/plain": [
       "(tensor([0.1605, 0.1107, 0.1181,  ..., 0.1419, 0.1103, 0.1162]),\n",
       " torch.Size([1010]))"
      ]
     },
     "execution_count": 61,
     "metadata": {},
     "output_type": "execute_result"
    }
   ],
   "source": [
    "valid_3_dist = mnist_distance(valid_3_tens, mean3)\n",
    "valid_3_dist, valid_3_dist.shape"
   ]
  },
  {
   "cell_type": "markdown",
   "metadata": {},
   "source": [
    "We can use mnist_distance to figure out whether an image is a 3 or not by using the following logic: if the distance between the digit in question and the ideal 3 is less than the distance to the ideal 7, then it's a 3. This function will automatically do broadcasting and be applied elementwise, just like all PyTorch functions and operators:"
   ]
  },
  {
   "cell_type": "code",
   "execution_count": 62,
   "metadata": {},
   "outputs": [],
   "source": [
    "def is_3(x): return mnist_distance(x, mean3) < mnist_distance(x, mean7)"
   ]
  },
  {
   "cell_type": "markdown",
   "metadata": {},
   "source": [
    "Let's test it with one of our examples"
   ]
  },
  {
   "cell_type": "code",
   "execution_count": 63,
   "metadata": {},
   "outputs": [
    {
     "data": {
      "text/plain": [
       "(tensor(True), tensor(1.))"
      ]
     },
     "execution_count": 63,
     "metadata": {},
     "output_type": "execute_result"
    }
   ],
   "source": [
    "is_3(a_3), is_3(a_3).float()"
   ]
  },
  {
   "cell_type": "code",
   "execution_count": 64,
   "metadata": {},
   "outputs": [
    {
     "data": {
      "text/plain": [
       "tensor([False,  True,  True,  ...,  True,  True,  True])"
      ]
     },
     "execution_count": 64,
     "metadata": {},
     "output_type": "execute_result"
    }
   ],
   "source": [
    "is_3(valid_3_tens)"
   ]
  },
  {
   "cell_type": "markdown",
   "metadata": {},
   "source": [
    "Now we can calculate the accuracy for each of the 3s and 7s by taking the average of that function for all 3s and its inverse for all 7s:"
   ]
  },
  {
   "cell_type": "code",
   "execution_count": 65,
   "metadata": {},
   "outputs": [
    {
     "data": {
      "text/plain": [
       "(tensor(0.9168), tensor(0.9854), tensor(0.9511))"
      ]
     },
     "execution_count": 65,
     "metadata": {},
     "output_type": "execute_result"
    }
   ],
   "source": [
    "accuracy_3s = is_3(valid_3_tens).float().mean()\n",
    "accuracy_7s = (1- is_3(valid_7_tens).float()).mean()\n",
    "\n",
    "accuracy_3s, accuracy_7s, (accuracy_3s+accuracy_7s)/2"
   ]
  },
  {
   "cell_type": "markdown",
   "metadata": {},
   "source": [
    "We're getting over 90% accuracy on both 3s and 7s, and we've seen how to define a metric conveniently using broadcasting.\n",
    "\n",
    "However: 3s and 7s are very different-looking digits. And we're only classifying 2 out of the 10 possible digits so far. So we're going to need to do better!\n",
    "\n",
    "But now we know a simpler model that can predict with a 95% accuracy and if we create a deep learning model that predict with 94% accuracy we can clearly see that is not a good model and we will need to try other things."
   ]
  },
  {
   "cell_type": "code",
   "execution_count": null,
   "metadata": {},
   "outputs": [],
   "source": []
  }
 ],
 "metadata": {
  "kernelspec": {
   "display_name": "Python 3",
   "language": "python",
   "name": "python3"
  },
  "language_info": {
   "codemirror_mode": {
    "name": "ipython",
    "version": 3
   },
   "file_extension": ".py",
   "mimetype": "text/x-python",
   "name": "python",
   "nbconvert_exporter": "python",
   "pygments_lexer": "ipython3",
   "version": "3.7.4"
  }
 },
 "nbformat": 4,
 "nbformat_minor": 4
}
